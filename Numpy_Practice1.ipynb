{
 "cells": [
  {
   "cell_type": "code",
   "execution_count": 29,
   "id": "645e527e",
   "metadata": {},
   "outputs": [
    {
     "name": "stdout",
     "output_type": "stream",
     "text": [
      "[1, 2, 3, 4]\n"
     ]
    }
   ],
   "source": [
    "a = [1, 2, 3] # instantiate a list\n",
    "a.append(4) # use \"append\" method to append 3 to the list\n",
    "print(a)"
   ]
  },
  {
   "cell_type": "code",
   "execution_count": 30,
   "id": "f9dbe974",
   "metadata": {},
   "outputs": [
    {
     "name": "stdout",
     "output_type": "stream",
     "text": [
      "__add__\n",
      "__class__\n",
      "__class_getitem__\n",
      "__contains__\n",
      "__delattr__\n",
      "__delitem__\n",
      "__dir__\n",
      "__doc__\n",
      "__eq__\n",
      "__format__\n",
      "__ge__\n",
      "__getattribute__\n",
      "__getitem__\n",
      "__gt__\n",
      "__hash__\n",
      "__iadd__\n",
      "__imul__\n",
      "__init__\n",
      "__init_subclass__\n",
      "__iter__\n",
      "__le__\n",
      "__len__\n",
      "__lt__\n",
      "__mul__\n",
      "__ne__\n",
      "__new__\n",
      "__reduce__\n",
      "__reduce_ex__\n",
      "__repr__\n",
      "__reversed__\n",
      "__rmul__\n",
      "__setattr__\n",
      "__setitem__\n",
      "__sizeof__\n",
      "__str__\n",
      "__subclasshook__\n",
      "append\n",
      "clear\n",
      "copy\n",
      "count\n",
      "extend\n",
      "index\n",
      "insert\n",
      "pop\n",
      "remove\n",
      "reverse\n",
      "sort\n"
     ]
    }
   ],
   "source": [
    "a = [1, 2, 3]\n",
    "for attr in dir(a):\n",
    "    print(attr)"
   ]
  },
  {
   "cell_type": "code",
   "execution_count": 31,
   "id": "09900597",
   "metadata": {},
   "outputs": [
    {
     "name": "stdout",
     "output_type": "stream",
     "text": [
      "__class__\n",
      "__class_getitem__\n",
      "__contains__\n",
      "__delattr__\n",
      "__delitem__\n",
      "__dir__\n",
      "__doc__\n",
      "__eq__\n",
      "__format__\n",
      "__ge__\n",
      "__getattribute__\n",
      "__getitem__\n",
      "__gt__\n",
      "__hash__\n",
      "__init__\n",
      "__init_subclass__\n",
      "__ior__\n",
      "__iter__\n",
      "__le__\n",
      "__len__\n",
      "__lt__\n",
      "__ne__\n",
      "__new__\n",
      "__or__\n",
      "__reduce__\n",
      "__reduce_ex__\n",
      "__repr__\n",
      "__reversed__\n",
      "__ror__\n",
      "__setattr__\n",
      "__setitem__\n",
      "__sizeof__\n",
      "__str__\n",
      "__subclasshook__\n",
      "clear\n",
      "copy\n",
      "fromkeys\n",
      "get\n",
      "items\n",
      "keys\n",
      "pop\n",
      "popitem\n",
      "setdefault\n",
      "update\n",
      "values\n"
     ]
    }
   ],
   "source": [
    "a = {'a':0, 'b':1, 'c':2}\n",
    "for attr in dir(a):\n",
    "    print(attr)"
   ]
  },
  {
   "cell_type": "code",
   "execution_count": 32,
   "id": "f61e5e75",
   "metadata": {},
   "outputs": [
    {
     "name": "stdout",
     "output_type": "stream",
     "text": [
      "__class__\n",
      "__class_getitem__\n",
      "__contains__\n",
      "__delattr__\n",
      "__delitem__\n",
      "__dir__\n",
      "__doc__\n",
      "__eq__\n",
      "__format__\n",
      "__ge__\n",
      "__getattribute__\n",
      "__getitem__\n",
      "__gt__\n",
      "__hash__\n",
      "__init__\n",
      "__init_subclass__\n",
      "__ior__\n",
      "__iter__\n",
      "__le__\n",
      "__len__\n",
      "__lt__\n",
      "__ne__\n",
      "__new__\n",
      "__or__\n",
      "__reduce__\n",
      "__reduce_ex__\n",
      "__repr__\n",
      "__reversed__\n",
      "__ror__\n",
      "__setattr__\n",
      "__setitem__\n",
      "__sizeof__\n",
      "__str__\n",
      "__subclasshook__\n",
      "clear\n",
      "copy\n",
      "fromkeys\n",
      "get\n",
      "items\n",
      "keys\n",
      "pop\n",
      "popitem\n",
      "setdefault\n",
      "update\n",
      "values\n"
     ]
    }
   ],
   "source": [
    "a = {'a':0, 'b':1, 'c':2}\n",
    "for attr in dir(a):\n",
    "    print(attr)"
   ]
  },
  {
   "cell_type": "code",
   "execution_count": 33,
   "id": "3d6018e7",
   "metadata": {},
   "outputs": [
    {
     "name": "stdout",
     "output_type": "stream",
     "text": [
      "__add__\n",
      "__class__\n",
      "__class_getitem__\n",
      "__contains__\n",
      "__delattr__\n",
      "__delitem__\n",
      "__dir__\n",
      "__doc__\n",
      "__eq__\n",
      "__format__\n",
      "__ge__\n",
      "__getattribute__\n",
      "__getitem__\n",
      "__gt__\n",
      "__hash__\n",
      "__iadd__\n",
      "__imul__\n",
      "__init__\n",
      "__init_subclass__\n",
      "__iter__\n",
      "__le__\n",
      "__len__\n",
      "__lt__\n",
      "__mul__\n",
      "__ne__\n",
      "__new__\n",
      "__reduce__\n",
      "__reduce_ex__\n",
      "__repr__\n",
      "__reversed__\n",
      "__rmul__\n",
      "__setattr__\n",
      "__setitem__\n",
      "__sizeof__\n",
      "__str__\n",
      "__subclasshook__\n",
      "append\n",
      "clear\n",
      "copy\n",
      "count\n",
      "extend\n",
      "index\n",
      "insert\n",
      "pop\n",
      "remove\n",
      "reverse\n",
      "sort\n"
     ]
    }
   ],
   "source": [
    "a = [1, 2, 3]\n",
    "for attr in dir(a):\n",
    "    print(attr)"
   ]
  },
  {
   "cell_type": "code",
   "execution_count": 34,
   "id": "20b0777d",
   "metadata": {},
   "outputs": [],
   "source": [
    "a = [10, 20, 30, 40, 50]\n",
    "b = [1.5, 2.5, 3.5, 4.5, 5.5]\n",
    "c = ['a', 'b', 'c', 'd', 'e']"
   ]
  },
  {
   "cell_type": "code",
   "execution_count": 35,
   "id": "c9133d72",
   "metadata": {},
   "outputs": [
    {
     "name": "stdout",
     "output_type": "stream",
     "text": [
      "<class 'list'>\n",
      "<class 'dict'>\n",
      "<class 'tuple'>\n"
     ]
    }
   ],
   "source": [
    "a = [1, 2, 3]\n",
    "b = {'a':1, 'b':2, 'c':3}\n",
    "c = (1, 2, 3)\n",
    "\n",
    "print(type(a))\n",
    "print(type(b))\n",
    "print(type(c)) "
   ]
  },
  {
   "cell_type": "code",
   "execution_count": 36,
   "id": "25f9497e",
   "metadata": {},
   "outputs": [
    {
     "name": "stdout",
     "output_type": "stream",
     "text": [
      "('__abs__', '__abs__')\n",
      "('__add__', '__add__')\n",
      "('__and__', '__and__')\n",
      "('__bool__', '__bool__')\n",
      "('__ceil__', '__ceil__')\n",
      "('__class__', '__class__')\n",
      "('__delattr__', '__delattr__')\n",
      "('__dir__', '__dir__')\n",
      "('__divmod__', '__divmod__')\n",
      "('__doc__', '__doc__')\n",
      "('__eq__', '__eq__')\n",
      "('__float__', '__float__')\n",
      "('__floor__', '__floor__')\n",
      "('__floordiv__', '__floordiv__')\n",
      "('__format__', '__format__')\n",
      "('__ge__', '__ge__')\n",
      "('__getattribute__', '__getattribute__')\n",
      "('__getnewargs__', '__getnewargs__')\n",
      "('__gt__', '__gt__')\n",
      "('__hash__', '__hash__')\n",
      "('__index__', '__index__')\n",
      "('__init__', '__init__')\n",
      "('__init_subclass__', '__init_subclass__')\n",
      "('__int__', '__int__')\n",
      "('__invert__', '__invert__')\n",
      "('__le__', '__le__')\n",
      "('__lshift__', '__lshift__')\n",
      "('__lt__', '__lt__')\n",
      "('__mod__', '__mod__')\n",
      "('__mul__', '__mul__')\n",
      "('__ne__', '__ne__')\n",
      "('__neg__', '__neg__')\n",
      "('__new__', '__new__')\n",
      "('__or__', '__or__')\n",
      "('__pos__', '__pos__')\n",
      "('__pow__', '__pow__')\n",
      "('__radd__', '__radd__')\n",
      "('__rand__', '__rand__')\n",
      "('__rdivmod__', '__rdivmod__')\n",
      "('__reduce__', '__reduce__')\n",
      "('__reduce_ex__', '__reduce_ex__')\n",
      "('__repr__', '__repr__')\n",
      "('__rfloordiv__', '__rfloordiv__')\n",
      "('__rlshift__', '__rlshift__')\n",
      "('__rmod__', '__rmod__')\n",
      "('__rmul__', '__rmul__')\n",
      "('__ror__', '__ror__')\n",
      "('__round__', '__round__')\n",
      "('__rpow__', '__rpow__')\n",
      "('__rrshift__', '__rrshift__')\n",
      "('__rshift__', '__rshift__')\n",
      "('__rsub__', '__rsub__')\n",
      "('__rtruediv__', '__rtruediv__')\n",
      "('__rxor__', '__rxor__')\n",
      "('__setattr__', '__setattr__')\n",
      "('__sizeof__', '__sizeof__')\n",
      "('__str__', '__str__')\n",
      "('__sub__', '__sub__')\n",
      "('__subclasshook__', '__subclasshook__')\n",
      "('__truediv__', '__truediv__')\n",
      "('__trunc__', '__trunc__')\n",
      "('__xor__', '__xor__')\n",
      "('as_integer_ratio', 'as_integer_ratio')\n",
      "('bit_length', 'bit_length')\n",
      "('conjugate', 'conjugate')\n",
      "('denominator', 'denominator')\n",
      "('from_bytes', 'from_bytes')\n",
      "('imag', 'imag')\n",
      "('numerator', 'numerator')\n",
      "('real', 'real')\n",
      "('to_bytes', 'to_bytes')\n"
     ]
    }
   ],
   "source": [
    "a, b = 10, 20\n",
    "\n",
    "for attr in zip(dir(a), dir(b)):\n",
    "    print(attr)"
   ]
  },
  {
   "cell_type": "code",
   "execution_count": 37,
   "id": "6a47dbe2",
   "metadata": {},
   "outputs": [
    {
     "name": "stdout",
     "output_type": "stream",
     "text": [
      "<class 'int'>\n",
      "<class 'int'>\n",
      "<class 'int'>\n",
      "30\n",
      "30\n"
     ]
    }
   ],
   "source": [
    "a, b = 10, 20\n",
    "c = a + b\n",
    "\n",
    "print(type(a)) \n",
    "print(type(b))\n",
    "print(type(c))\n",
    "print(a + b) \n",
    "print(a.__add__(b)) "
   ]
  },
  {
   "cell_type": "code",
   "execution_count": 38,
   "id": "0fea2a51",
   "metadata": {},
   "outputs": [
    {
     "name": "stdout",
     "output_type": "stream",
     "text": [
      "3\n",
      "3\n"
     ]
    }
   ],
   "source": [
    "a = [1, 2, 3]\n",
    "print(len(a))\n",
    "print(a.__len__()) "
   ]
  },
  {
   "cell_type": "code",
   "execution_count": 39,
   "id": "0d3e5d71",
   "metadata": {},
   "outputs": [
    {
     "name": "stdout",
     "output_type": "stream",
     "text": [
      "2 2\n",
      "8 8\n",
      "16 16\n",
      "2.0 2.0\n",
      "2 2\n",
      "0 0\n"
     ]
    }
   ],
   "source": [
    "\n",
    "a, b = 4, 2\n",
    "\n",
    "print(a - b, a.__sub__(b))\n",
    "print(a * b, a.__mul__(b))\n",
    "print(a ** b, a.__pow__(b))\n",
    "print(a / b, a.__truediv__(b))\n",
    "print(a // b, a.__floordiv__(b))\n",
    "print(a % b, a.__mod__(b))\n"
   ]
  },
  {
   "cell_type": "code",
   "execution_count": 40,
   "id": "167bffe7",
   "metadata": {},
   "outputs": [],
   "source": [
    "a, b, c, d, e = 1.2, 3.5, 4.2, 5.2, 5.1\n",
    "\n",
    "result = (a + b)**c - (d / e)\n",
    "result = ((a.__add__(b)).__pow__(c)).__sub__(d.__truediv__(e))"
   ]
  },
  {
   "cell_type": "code",
   "execution_count": 41,
   "id": "53d2b284",
   "metadata": {},
   "outputs": [
    {
     "name": "stdout",
     "output_type": "stream",
     "text": [
      "30 200\n",
      "[1, 2, 3, 4, 5, 6]\n",
      "[1, 2, 3, 1, 2, 3, 1, 2, 3]\n"
     ]
    }
   ],
   "source": [
    "a, b = 10, 20\n",
    "print(a + b, a * b)\n",
    "\n",
    "list1, list2 = [1, 2, 3], [4, 5, 6]\n",
    "print(list1 + list2)\n",
    "print(3*list1)"
   ]
  },
  {
   "cell_type": "code",
   "execution_count": 42,
   "id": "4265494a",
   "metadata": {},
   "outputs": [
    {
     "name": "stdout",
     "output_type": "stream",
     "text": [
      "__add__ of lists:  [1, 2, 3, 4, 5, 6]\n",
      "__add__ of ndarrays:  [5 7 9]\n"
     ]
    }
   ],
   "source": [
    "import numpy as np\n",
    "\n",
    "a_list = [1, 2, 3]\n",
    "b_list = [4, 5, 6]\n",
    "print(\"__add__ of lists: \", a_list.__add__(b_list))\n",
    "\n",
    "a_np = np.array(a_list)\n",
    "b_np = np.array(b_list)\n",
    "print(\"__add__ of ndarrays: \", a_np.__add__(b_np))"
   ]
  },
  {
   "cell_type": "code",
   "execution_count": 43,
   "id": "4e224766",
   "metadata": {},
   "outputs": [
    {
     "name": "stdout",
     "output_type": "stream",
     "text": [
      "<module 'numpy' from 'C:\\\\Users\\\\munin\\\\anaconda\\\\lib\\\\site-packages\\\\numpy\\\\__init__.py'>\n",
      "mean:  30.0\n",
      "variance:  200.0\n"
     ]
    }
   ],
   "source": [
    "import numpy\n",
    "scores = [10, 20, 30, 40, 50]\n",
    "print(numpy)\n",
    "print(\"mean: \", numpy.mean(scores))\n",
    "print(\"variance: \", numpy.var(scores))"
   ]
  },
  {
   "cell_type": "code",
   "execution_count": 44,
   "id": "e4edad29",
   "metadata": {},
   "outputs": [
    {
     "name": "stdout",
     "output_type": "stream",
     "text": [
      "mean:  30.0\n",
      "variance:  200.0\n"
     ]
    }
   ],
   "source": [
    "import numpy as np\n",
    "scores = [10, 20, 30, 40, 50]\n",
    "print(\"mean: \", np.mean(scores))\n",
    "print(\"variance: \", np.var(scores))"
   ]
  },
  {
   "cell_type": "code",
   "execution_count": 45,
   "id": "9ce4074b",
   "metadata": {},
   "outputs": [
    {
     "name": "stdout",
     "output_type": "stream",
     "text": [
      "<class 'numpy.ndarray'>\n"
     ]
    }
   ],
   "source": [
    "import numpy as np\n",
    "a = np.array([1, 2, 3])\n",
    "print(type(a))"
   ]
  },
  {
   "cell_type": "code",
   "execution_count": 46,
   "id": "3b60f21c",
   "metadata": {},
   "outputs": [
    {
     "name": "stdout",
     "output_type": "stream",
     "text": [
      "T\n",
      "__abs__\n",
      "__add__\n",
      "__and__\n",
      "__array__\n",
      "__array_finalize__\n",
      "__array_function__\n",
      "__array_interface__\n",
      "__array_prepare__\n",
      "__array_priority__\n",
      "__array_struct__\n",
      "__array_ufunc__\n",
      "__array_wrap__\n",
      "__bool__\n",
      "__class__\n",
      "__complex__\n",
      "__contains__\n",
      "__copy__\n",
      "__deepcopy__\n",
      "__delattr__\n",
      "__delitem__\n",
      "__dir__\n",
      "__divmod__\n",
      "__doc__\n",
      "__eq__\n",
      "__float__\n",
      "__floordiv__\n",
      "__format__\n",
      "__ge__\n",
      "__getattribute__\n",
      "__getitem__\n",
      "__gt__\n",
      "__hash__\n",
      "__iadd__\n",
      "__iand__\n",
      "__ifloordiv__\n",
      "__ilshift__\n",
      "__imatmul__\n",
      "__imod__\n",
      "__imul__\n",
      "__index__\n",
      "__init__\n",
      "__init_subclass__\n",
      "__int__\n",
      "__invert__\n",
      "__ior__\n",
      "__ipow__\n",
      "__irshift__\n",
      "__isub__\n",
      "__iter__\n",
      "__itruediv__\n",
      "__ixor__\n",
      "__le__\n",
      "__len__\n",
      "__lshift__\n",
      "__lt__\n",
      "__matmul__\n",
      "__mod__\n",
      "__mul__\n",
      "__ne__\n",
      "__neg__\n",
      "__new__\n",
      "__or__\n",
      "__pos__\n",
      "__pow__\n",
      "__radd__\n",
      "__rand__\n",
      "__rdivmod__\n",
      "__reduce__\n",
      "__reduce_ex__\n",
      "__repr__\n",
      "__rfloordiv__\n",
      "__rlshift__\n",
      "__rmatmul__\n",
      "__rmod__\n",
      "__rmul__\n",
      "__ror__\n",
      "__rpow__\n",
      "__rrshift__\n",
      "__rshift__\n",
      "__rsub__\n",
      "__rtruediv__\n",
      "__rxor__\n",
      "__setattr__\n",
      "__setitem__\n",
      "__setstate__\n",
      "__sizeof__\n",
      "__str__\n",
      "__sub__\n",
      "__subclasshook__\n",
      "__truediv__\n",
      "__xor__\n",
      "all\n",
      "any\n",
      "argmax\n",
      "argmin\n",
      "argpartition\n",
      "argsort\n",
      "astype\n",
      "base\n",
      "byteswap\n",
      "choose\n",
      "clip\n",
      "compress\n",
      "conj\n",
      "conjugate\n",
      "copy\n",
      "ctypes\n",
      "cumprod\n",
      "cumsum\n",
      "data\n",
      "diagonal\n",
      "dot\n",
      "dtype\n",
      "dump\n",
      "dumps\n",
      "fill\n",
      "flags\n",
      "flat\n",
      "flatten\n",
      "getfield\n",
      "imag\n",
      "item\n",
      "itemset\n",
      "itemsize\n",
      "max\n",
      "mean\n",
      "min\n",
      "nbytes\n",
      "ndim\n",
      "newbyteorder\n",
      "nonzero\n",
      "partition\n",
      "prod\n",
      "ptp\n",
      "put\n",
      "ravel\n",
      "real\n",
      "repeat\n",
      "reshape\n",
      "resize\n",
      "round\n",
      "searchsorted\n",
      "setfield\n",
      "setflags\n",
      "shape\n",
      "size\n",
      "sort\n",
      "squeeze\n",
      "std\n",
      "strides\n",
      "sum\n",
      "swapaxes\n",
      "take\n",
      "tobytes\n",
      "tofile\n",
      "tolist\n",
      "tostring\n",
      "trace\n",
      "transpose\n",
      "var\n",
      "view\n"
     ]
    }
   ],
   "source": [
    "import numpy as np\n",
    "a = np.array([1, 2, 3])\n",
    "for attr in dir(a):\n",
    "    print(attr)"
   ]
  },
  {
   "cell_type": "code",
   "execution_count": 125,
   "id": "890ecebf",
   "metadata": {},
   "outputs": [
    {
     "name": "stdout",
     "output_type": "stream",
     "text": [
      "[1, 2, 3, 4, 5, 6]\n",
      "[5, 7, 9]\n"
     ]
    }
   ],
   "source": [
    "u = [1, 2, 3]\n",
    "v = [4, 5, 6]\n",
    "w = u + v\n",
    "print(w) \n",
    "\n",
    "w= [0]*len(u)\n",
    "for data_idx in range(len(u)):\n",
    "    w[data_idx] = u[data_idx] + v[data_idx]\n",
    "print(w)"
   ]
  },
  {
   "cell_type": "code",
   "execution_count": 48,
   "id": "c340186b",
   "metadata": {},
   "outputs": [
    {
     "name": "stdout",
     "output_type": "stream",
     "text": [
      "[5, 7, 9]\n",
      "[5 7 9]\n"
     ]
    }
   ],
   "source": [
    "import numpy as np\n",
    "u = [1, 2, 3]\n",
    "v = [4, 5, 6]\n",
    "w = [0]*len(u)\n",
    "for data_idx in range(len(u)):\n",
    "    w[data_idx] = u[data_idx] + v[data_idx]\n",
    "print(w)\n",
    "\n",
    "u = np.array([1, 2, 3])\n",
    "v = np.array([4, 5, 6])\n",
    "print(u + v)"
   ]
  },
  {
   "cell_type": "code",
   "execution_count": 49,
   "id": "1aca6933",
   "metadata": {},
   "outputs": [
    {
     "name": "stdout",
     "output_type": "stream",
     "text": [
      "[12, 14, 16]\n",
      "[18, 20, 22]\n",
      "[24, 26, 28]\n"
     ]
    }
   ],
   "source": [
    "M =[[1,2,3],[4,5,6],[7,8,9]]\n",
    "N = [[11, 12, 13], [14, 15, 16], [17, 18, 19]]\n",
    "n_row, n_col = len(M), len(M[0])\n",
    "\n",
    "P = [[0]*n_col for _ in range(n_col)]\n",
    "for row_idx in range(n_row):\n",
    "    for col_idx in range(n_col):\n",
    "        P[row_idx][col_idx] = M[row_idx][col_idx] + \\\n",
    "            N[row_idx][col_idx]\n",
    "\n",
    "for P_row in P:\n",
    "    print(P_row)"
   ]
  },
  {
   "cell_type": "code",
   "execution_count": 50,
   "id": "b9bd00bc",
   "metadata": {},
   "outputs": [
    {
     "name": "stdout",
     "output_type": "stream",
     "text": [
      "[[12 14 16]\n",
      " [18 20 22]\n",
      " [24 26 28]]\n",
      "[12, 14, 16]\n",
      "[18, 20, 22]\n",
      "[24, 26, 28]\n"
     ]
    }
   ],
   "source": [
    "\n",
    "import numpy as np\n",
    "M = np.array([[1, 2, 3],\n",
    "            [4, 5, 6],\n",
    "            [7, 8, 9]])\n",
    "N = np.array([[11, 12, 13],\n",
    "            [14, 15, 16],\n",
    "            [17, 18, 19]])\n",
    "print(M + N)\n",
    "\n",
    "M = [[1, 2, 3], [4, 5, 6], [7, 8, 9]]\n",
    "N = [[11, 12, 13], [14, 15, 16], [17, 18, 19]]\n",
    "n_row, n_col = len(M), len(M[0])\n",
    "\n",
    "P = [[0]*n_col for _ in range(n_col)]\n",
    "for row_idx in range(n_row):\n",
    "    for col_idx in range(n_col):\n",
    "        P[row_idx][col_idx] = M[row_idx][col_idx] + \\\n",
    "            N[row_idx][col_idx]\n",
    "for P_row in P:\n",
    "    print(P_row)\n"
   ]
  },
  {
   "cell_type": "code",
   "execution_count": 51,
   "id": "4552d043",
   "metadata": {},
   "outputs": [
    {
     "name": "stdout",
     "output_type": "stream",
     "text": [
      "Integer case\n",
      "<class 'int'> <class 'numpy.ndarray'>\n",
      "3 - 3\n",
      "Floating point case\n",
      "<class 'float'> <class 'float'>\n",
      "3.14 - 3.14\n"
     ]
    }
   ],
   "source": [
    "import numpy as np\n",
    "\n",
    "int_py = 3\n",
    "float_py = 3.14\n",
    "int_np = np.array(int_py)\n",
    "float_np = np.array(float_py)\n",
    "\n",
    "print(\"Integer case\")\n",
    "print(type(int_py), type(int_np))\n",
    "print(int_py, int_np, sep=' - ')\n",
    "print(\"Floating point case\")\n",
    "print(type(float_py), type(float_py))\n",
    "print(float_py, float_np, sep=' - ')\n"
   ]
  },
  {
   "cell_type": "code",
   "execution_count": 52,
   "id": "68cbc246",
   "metadata": {},
   "outputs": [
    {
     "name": "stdout",
     "output_type": "stream",
     "text": [
      "<class 'list'> <class 'numpy.ndarray'>\n",
      "[1, 2, 3] - [1 2 3]\n"
     ]
    }
   ],
   "source": [
    "vec_py = [1, 2, 3]\n",
    "vec_np = np.array(vec_py)\n",
    "print(type(vec_py), type(vec_np))\n",
    "print(vec_py, vec_np, sep=' - ')"
   ]
  },
  {
   "cell_type": "code",
   "execution_count": 53,
   "id": "6eabea70",
   "metadata": {},
   "outputs": [
    {
     "name": "stdout",
     "output_type": "stream",
     "text": [
      "<class 'list'> <class 'numpy.ndarray'>\n",
      "[[1, 2, 3], [4, 5, 6]]\n",
      "\n",
      "[[1 2 3]\n",
      " [4 5 6]]\n"
     ]
    }
   ],
   "source": [
    "mat_py = [[1, 2, 3],\n",
    "        [4, 5, 6]]\n",
    "mat_np = np.array(mat_py)\n",
    "\n",
    "print(type(mat_py), type(mat_np))\n",
    "print(mat_py, mat_np, sep='\\n\\n')"
   ]
  },
  {
   "cell_type": "code",
   "execution_count": 54,
   "id": "2ec232a1",
   "metadata": {},
   "outputs": [
    {
     "name": "stdout",
     "output_type": "stream",
     "text": [
      "<class 'list'> <class 'numpy.ndarray'>\n",
      "[[[1, 2, 3], [4, 5, 6]], [[11, 12, 13], [14, 15, 16]]]\n",
      "\n",
      "[[[ 1  2  3]\n",
      "  [ 4  5  6]]\n",
      "\n",
      " [[11 12 13]\n",
      "  [14 15 16]]]\n"
     ]
    }
   ],
   "source": [
    "tensor_py = [[[1, 2, 3],\n",
    "            [4, 5, 6]],\n",
    "            [[11, 12, 13],\n",
    "            [14, 15, 16]]]\n",
    "tensor_np = np.array(tensor_py)\n",
    "print(type(tensor_py), type(tensor_np))\n",
    "print(tensor_py, tensor_np, sep='\\n\\n')"
   ]
  },
  {
   "cell_type": "code",
   "execution_count": 55,
   "id": "93b83c36",
   "metadata": {},
   "outputs": [
    {
     "name": "stdout",
     "output_type": "stream",
     "text": [
      "0\n",
      "1\n",
      "2\n",
      "3\n",
      "()\n",
      "(3,)\n",
      "(2, 2)\n",
      "(2, 2, 3)\n"
     ]
    }
   ],
   "source": [
    "scalar_np = np.array(3.14)\n",
    "vec_np = np.array([1, 2, 3])\n",
    "mat_np = np.array([[1, 2], [3, 4]])\n",
    "tensor_np = np.array([[[1, 2, 3],\n",
    "                    [4, 5, 6]],\n",
    "                    [[11, 12, 13],\n",
    "                    [14, 15, 16]]])\n",
    "print(len(()))\n",
    "print(len((3,)))\n",
    "print(len((2, 2)))\n",
    "print(len((2, 2, 3)))\n",
    "\n",
    "print(scalar_np.shape)\n",
    "print(vec_np.shape)\n",
    "print(mat_np.shape)\n",
    "print(tensor_np.shape)\n"
   ]
  },
  {
   "cell_type": "code",
   "execution_count": 56,
   "id": "8955de74",
   "metadata": {},
   "outputs": [
    {
     "name": "stdout",
     "output_type": "stream",
     "text": [
      "(2, 3)\n",
      "[[1. 1. 1.]\n",
      " [1. 1. 1.]]\n",
      "(2, 3)\n",
      "[[1. 1. 1.]\n",
      " [1. 1. 1.]]\n"
     ]
    }
   ],
   "source": [
    "\n",
    "#numpy.zeros(shape, dtype=float, order='C', *, like=None)\n",
    "#numpy.ones(shape, dtype=None, order='C', *, like=None)\n",
    "\n",
    "M = np.zeros(shape=(2, 3))\n",
    "M = np.ones(shape=(2, 3))\n",
    "print(M.shape)\n",
    "print(M)\n",
    "print(M.shape)\n",
    "print(M)\n"
   ]
  },
  {
   "cell_type": "code",
   "execution_count": 57,
   "id": "b19b39ff",
   "metadata": {},
   "outputs": [
    {
     "name": "stdout",
     "output_type": "stream",
     "text": [
      "(2, 3)\n",
      "[[1. 1. 1.]\n",
      " [1. 1. 1.]]\n",
      "(2, 3)\n",
      "[[1. 1. 1.]\n",
      " [1. 1. 1.]]\n"
     ]
    }
   ],
   "source": [
    "\n",
    "#numpy.full(shape, fill_value, dtype=None, order='C', *, like=None) numpy.empty(shape, dtype=float, order='C', *, like=None)\n",
    "\n",
    "M = np.full(shape=(2, 3), fill_value=3.14)\n",
    "M = np.empty(shape=(2, 3))\n",
    "\n",
    "print(M.shape)\n",
    "print(M)\n",
    "print(M.shape)\n",
    "print(M)"
   ]
  },
  {
   "cell_type": "code",
   "execution_count": 58,
   "id": "ed1b9608",
   "metadata": {},
   "outputs": [
    {
     "name": "stdout",
     "output_type": "stream",
     "text": [
      "[[3.14 3.14 3.14]\n",
      " [3.14 3.14 3.14]] \n",
      "\n",
      "zeros_like: \n",
      " [[0. 0. 0.]\n",
      " [0. 0. 0.]] \n",
      "\n",
      "ones_like: \n",
      " [[1. 1. 1.]\n",
      " [1. 1. 1.]] \n",
      "\n",
      "full_like: \n",
      " [[100. 100. 100.]\n",
      " [100. 100. 100.]] \n",
      "\n",
      "empty_like: \n",
      " [[100. 100. 100.]\n",
      " [100. 100. 100.]] \n",
      "\n"
     ]
    }
   ],
   "source": [
    "\n",
    "#numpy.zeros_like(a, dtype=None, order='K', subok=True, shape=None) numpy.ones_like(a, dtype=None, order='K', subok=True, shape=None)\n",
    "#numpy.full_like(a, fill_value, dtype=None, order='K', subok=True, shape=None) numpy.empty_like(prototype, dtype=None, order='K', subok=True, shape=None)\n",
    "\n",
    "M = np.full(shape=(2, 3), fill_value=3.14)\n",
    "zeros_like = np.zeros_like(M)\n",
    "ones_like = np.ones_like(M)\n",
    "full_like = np.full_like(M, fill_value=100)\n",
    "empty_like = np.empty_like(M)\n",
    "\n",
    "print(M, '\\n') \n",
    "print(\"zeros_like: \\n\", zeros_like, '\\n')\n",
    "print(\"ones_like: \\n\", ones_like, '\\n')\n",
    "print(\"full_like: \\n\", full_like, '\\n')\n",
    "print(\"empty_like: \\n\", empty_like, '\\n')\n"
   ]
  },
  {
   "cell_type": "code",
   "execution_count": 59,
   "id": "1e0fc626",
   "metadata": {},
   "outputs": [
    {
     "name": "stdout",
     "output_type": "stream",
     "text": [
      "[0, 1, 2, 3, 4, 5, 6, 7, 8, 9]\n",
      "[2, 3, 4]\n",
      "[2, 4, 6, 8]\n",
      "[0 1 2 3 4 5 6 7 8 9]\n",
      "[2 3 4]\n",
      "[2 4 6 8]\n"
     ]
    }
   ],
   "source": [
    "\n",
    "print(list(range(10)))\n",
    "print(list(range(2, 5)))\n",
    "print(list(range(2, 10, 2)))\n",
    "print(np.arange(10))\n",
    "print(np.arange(2, 5))\n",
    "print(np.arange(2, 10, 2))\n",
    "\n",
    "#numpy.arange([start, ]stop, [step, ]dtype=None, *, like=None)"
   ]
  },
  {
   "cell_type": "code",
   "execution_count": 60,
   "id": "dc9090c0",
   "metadata": {},
   "outputs": [
    {
     "name": "stdout",
     "output_type": "stream",
     "text": [
      "[ 0.  1.  2.  3.  4.  5.  6.  7.  8.  9. 10.]\n",
      "[1.5 2.5 3.5 4.5 5.5 6.5 7.5 8.5 9.5]\n",
      "[1.5 4.  6.5 9. ]\n"
     ]
    }
   ],
   "source": [
    "print(np.arange(10.5))\n",
    "print(np.arange(1.5, 10.5))\n",
    "print(np.arange(1.5, 10.5, 2.5)) "
   ]
  },
  {
   "cell_type": "code",
   "execution_count": 61,
   "id": "bcc5e2f7",
   "metadata": {},
   "outputs": [
    {
     "name": "stdout",
     "output_type": "stream",
     "text": [
      "[0.   0.25 0.5  0.75 1.  ]\n",
      "[0.         0.11111111 0.22222222 0.33333333 0.44444444 0.55555556\n",
      " 0.66666667 0.77777778 0.88888889 1.        ]\n"
     ]
    }
   ],
   "source": [
    "#numpy.linspace(start, stop, num=50, endpoint=True, retstep=False, dtype=None, axis=0)\n",
    "print(np.linspace(0, 1, 5))\n",
    "print(np.linspace(0, 1, 10))\n"
   ]
  },
  {
   "cell_type": "code",
   "execution_count": 62,
   "id": "f4bd5d82",
   "metadata": {},
   "outputs": [
    {
     "name": "stdout",
     "output_type": "stream",
     "text": [
      "[[  1.    10.   100.  ]\n",
      " [  1.25  12.5  125.  ]\n",
      " [  1.5   15.   150.  ]\n",
      " [  1.75  17.5  175.  ]\n",
      " [  2.    20.   200.  ]]\n"
     ]
    }
   ],
   "source": [
    "\n",
    "np.linspace(1, 2, 5)\n",
    "\n",
    "np.linspace(10, 20, 5)\n",
    "\n",
    "np.linspace(100, 200, 5)\n",
    "\n",
    "a = np.linspace([1, 10, 100], [2, 20, 200], 5)\n",
    "print(a)"
   ]
  },
  {
   "cell_type": "code",
   "execution_count": 63,
   "id": "6f324357",
   "metadata": {},
   "outputs": [
    {
     "name": "stdout",
     "output_type": "stream",
     "text": [
      "[0.   0.25 0.5  0.75 1.  ]\n",
      "[0.   0.25 0.5  0.75 1.  ]\n",
      "[0 1 2 3 4 5 6 7 8 9]\n",
      "[0. 1. 2. 3. 4. 5. 6. 7. 8. 9.] \n",
      "\n",
      "[5 6 7 8 9]\n",
      "[5. 6. 7. 8. 9.]\n"
     ]
    }
   ],
   "source": [
    "\n",
    "print(np.arange(0, 1 + 0.25, 0.25))\n",
    "print(np.linspace(0, 1, 5))\n",
    "\n",
    "print(np.arange(10))\n",
    "print(np.linspace(0, 9, 10), '\\n')\n",
    "\n",
    "print(np.arange(5, 10))\n",
    "print(np.linspace(5, 9, 9-5+1))\n"
   ]
  },
  {
   "cell_type": "code",
   "execution_count": 64,
   "id": "4cb41a87",
   "metadata": {},
   "outputs": [
    {
     "name": "stdout",
     "output_type": "stream",
     "text": [
      "(300,)\n"
     ]
    },
    {
     "data": {
      "image/png": "[encoded data removed]",
      "text/plain": [
       "<Figure size 1000x500 with 1 Axes>"
      ]
     },
     "metadata": {},
     "output_type": "display_data"
    }
   ],
   "source": [
    "import numpy as np\n",
    "import matplotlib.pyplot as plt\n",
    "plt.style.use('seaborn')\n",
    "fig, ax = plt.subplots(figsize=(10, 5))\n",
    "random_values = np.random.randn(300)\n",
    "ax.hist(random_values, bins=20)\n",
    "print(random_values.shape)"
   ]
  },
  {
   "cell_type": "code",
   "execution_count": 65,
   "id": "33e726fd",
   "metadata": {},
   "outputs": [],
   "source": [
    "import numpy as np\n",
    "random_values = np.random.randn(300)"
   ]
  },
  {
   "cell_type": "code",
   "execution_count": 66,
   "id": "ff80a3af",
   "metadata": {},
   "outputs": [],
   "source": [
    "normal1 = np.random.normal(loc=-2, scale=1, size=(200, ))\n",
    "normal2 = np.random.normal(loc=0, scale=2, size=(200, ))\n",
    "normal3 = np.random.normal(loc=3, scale=5, size=(200, ))"
   ]
  },
  {
   "cell_type": "code",
   "execution_count": 67,
   "id": "bdaa247b",
   "metadata": {},
   "outputs": [],
   "source": [
    "normal = np.random.normal(loc=[-2, 0, 3],\n",
    "scale=[1, 2, 5],\n",
    "size=(200, 3))"
   ]
  },
  {
   "cell_type": "code",
   "execution_count": 68,
   "id": "2d395de4",
   "metadata": {},
   "outputs": [
    {
     "name": "stdout",
     "output_type": "stream",
     "text": [
      "[[-3.23895345 -1.03840154 -2.62815671]\n",
      " [-2.72027869 -2.21742335 -1.80451587]\n",
      " [-1.18904678 -1.66725295 -1.76871917]]\n"
     ]
    }
   ],
   "source": [
    "normal = np.random.normal(loc=-2, scale=1, size=(3, 3))\n",
    "print(normal)"
   ]
  },
  {
   "cell_type": "code",
   "execution_count": 69,
   "id": "f78ffda6",
   "metadata": {},
   "outputs": [
    {
     "name": "stdout",
     "output_type": "stream",
     "text": [
      "(1000,)\n"
     ]
    },
    {
     "data": {
      "image/png": "[encoded data removed]",
      "text/plain": [
       "<Figure size 1000x500 with 1 Axes>"
      ]
     },
     "metadata": {},
     "output_type": "display_data"
    }
   ],
   "source": [
    "fig, ax = plt.subplots(figsize=(10, 5))\n",
    "uniform = np.random.rand(1000)\n",
    "ax.hist(uniform)\n",
    "print(uniform.shape)"
   ]
  },
  {
   "cell_type": "code",
   "execution_count": 70,
   "id": "20c95329",
   "metadata": {},
   "outputs": [
    {
     "name": "stdout",
     "output_type": "stream",
     "text": [
      "(2, 3, 4)\n"
     ]
    }
   ],
   "source": [
    "uniform = np.random.rand(2, 3, 4)\n",
    "print(uniform.shape)"
   ]
  },
  {
   "cell_type": "code",
   "execution_count": 72,
   "id": "11b8c76f",
   "metadata": {},
   "outputs": [
    {
     "name": "stdout",
     "output_type": "stream",
     "text": [
      "[0 0 0 6 0 0 0 6 1 0 6 5 3 4 5 2 3 4 5 4]\n"
     ]
    }
   ],
   "source": [
    "randint = np.random.randint(low=0, high=7, size=(20, ))\n",
    "print(randint)"
   ]
  },
  {
   "cell_type": "code",
   "execution_count": 123,
   "id": "62da8850",
   "metadata": {},
   "outputs": [
    {
     "name": "stdout",
     "output_type": "stream",
     "text": [
      "0\n",
      "1\n",
      "2\n"
     ]
    }
   ],
   "source": [
    "\n",
    "scalar_np = np.array(3.14)\n",
    "vector_np = np.array([1, 2, 3])\n",
    "matrix_np = np.array([[1, 2], [3, 4]])\n",
    "\n",
    "print(scalar_np.ndim)\n",
    "print(vector_np.ndim)\n",
    "print(matrix_np.ndim)"
   ]
  },
  {
   "cell_type": "code",
   "execution_count": 74,
   "id": "79da7946",
   "metadata": {},
   "outputs": [
    {
     "name": "stdout",
     "output_type": "stream",
     "text": [
      "shape / dimension\n",
      "() / 0\n",
      "(3,) / 1\n",
      "(2, 2) / 2\n",
      "(2, 2, 3) / 3\n"
     ]
    }
   ],
   "source": [
    "\n",
    "scalar_np = np.array(3.14)\n",
    "vector_np = np.array([1, 2, 3])\n",
    "matrix_np = np.array([[1, 2], [3, 4]])\n",
    "tensor_np = np.array([[[1, 2, 3],\n",
    "                        [4, 5, 6]],\n",
    "                        [[11, 12, 13],\n",
    "                        [14, 15, 16]]])\n",
    "\n",
    "print(\"shape / dimension\")\n",
    "print(\"{} / {}\".format(scalar_np.shape, len(scalar_np.shape)))\n",
    "print(\"{} / {}\".format(vector_np.shape, len(vector_np.shape)))\n",
    "print(\"{} / {}\".format(matrix_np.shape, len(matrix_np.shape)))\n",
    "print(\"{} / {}\".format(tensor_np.shape, len(tensor_np.shape)))\n"
   ]
  },
  {
   "cell_type": "code",
   "execution_count": 75,
   "id": "7a8a1bf8",
   "metadata": {},
   "outputs": [
    {
     "name": "stdout",
     "output_type": "stream",
     "text": [
      "a: (3,)\n",
      "[1 2 3]\n",
      "\n",
      "b: (1, 3)\n",
      "[[1 2 3]]\n",
      "\n",
      "c: (3, 1)\n",
      "[[1]\n",
      " [2]\n",
      " [3]]\n",
      "\n"
     ]
    }
   ],
   "source": [
    "a = np.array([1, 2, 3])\n",
    "b = np.array([[1, 2, 3]])\n",
    "c = np.array([[1], [2], [3]])\n",
    "\n",
    "print(f\"a: {a.shape}\\n{a}\\n\")\n",
    "print(f\"b: {b.shape}\\n{b}\\n\")\n",
    "print(f\"c: {c.shape}\\n{c}\\n\")\n"
   ]
  },
  {
   "cell_type": "code",
   "execution_count": 76,
   "id": "7f98a8e0",
   "metadata": {},
   "outputs": [
    {
     "name": "stdout",
     "output_type": "stream",
     "text": [
      "Size of M: 10\n",
      "Size of N: 12\n",
      "Size of O: 60\n",
      "Size of P: 720\n"
     ]
    }
   ],
   "source": [
    "\n",
    "M = np.ones(shape=(10, ))\n",
    "N = np.ones(shape=(3, 4))\n",
    "O = np.ones(shape=(3, 4, 5))\n",
    "P = np.ones(shape=(2, 3, 4, 5, 6))\n",
    "\n",
    "print(\"Size of M:\", M.size)\n",
    "print(\"Size of N:\", N.size)\n",
    "print(\"Size of O:\", O.size)\n",
    "print(\"Size of P:\", P.size)"
   ]
  },
  {
   "cell_type": "code",
   "execution_count": 77,
   "id": "53c96474",
   "metadata": {},
   "outputs": [
    {
     "name": "stdout",
     "output_type": "stream",
     "text": [
      "int32\n",
      "float64\n"
     ]
    }
   ],
   "source": [
    "M = np.arange(100)\n",
    "N = np.full(fill_value=3.14, shape=(2, 3))\n",
    "\n",
    "print(M.dtype)\n",
    "print(N.dtype)"
   ]
  },
  {
   "cell_type": "code",
   "execution_count": 78,
   "id": "cd50f3b1",
   "metadata": {},
   "outputs": [
    {
     "name": "stdout",
     "output_type": "stream",
     "text": [
      "int32\n",
      "float64\n"
     ]
    }
   ],
   "source": [
    "\n",
    "int_np = np.array([1, 2, 3])\n",
    "float_np = np.array([1., 2., 3.])\n",
    "\n",
    "print(int_np.dtype)\n",
    "print(float_np.dtype)"
   ]
  },
  {
   "cell_type": "code",
   "execution_count": 80,
   "id": "f1e70ae4",
   "metadata": {},
   "outputs": [
    {
     "name": "stdout",
     "output_type": "stream",
     "text": [
      "[1 2 3]\n",
      "[1 2 3]\n"
     ]
    }
   ],
   "source": [
    "int8_np = np.array([1.5, 2.5, 3.5], dtype=np.int8)\n",
    "uint8_np = np.array([1.5, 2.5, 3.5], dtype=np.uint8)\n",
    "\n",
    "print(int8_np)\n",
    "print(uint8_np)"
   ]
  },
  {
   "cell_type": "code",
   "execution_count": 81,
   "id": "f9536d21",
   "metadata": {},
   "outputs": [
    {
     "name": "stdout",
     "output_type": "stream",
     "text": [
      "float32/float64\n",
      "[[1. 1. 1.]\n",
      " [1. 1. 1.]]\n",
      "[[0. 0. 0.]\n",
      " [0. 0. 0.]]\n"
     ]
    }
   ],
   "source": [
    "M = np.ones(shape=(2, 3), dtype=np.float32)\n",
    "N = np.zeros_like(M, dtype=np.float64)\n",
    "\n",
    "print(\"{}/{}\".format(M.dtype, N.dtype))\n",
    "print(M)\n",
    "print(N)"
   ]
  },
  {
   "cell_type": "code",
   "execution_count": 82,
   "id": "a074ba8b",
   "metadata": {},
   "outputs": [
    {
     "name": "stdout",
     "output_type": "stream",
     "text": [
      "int8_np: int8/1B\n",
      "int16_np: int16/2B\n",
      "int32_np: int32/4B\n",
      "int64_np: int64/8B\n",
      "\n",
      "uint8_np: uint8/1B\n",
      "uint16_np: uint16/2B\n",
      "uint32_np: uint32/4B\n",
      "uint64_np: uint64/8B\n",
      "\n",
      "float32_np: float32/4B\n",
      "float64_np: float64/8B\n"
     ]
    }
   ],
   "source": [
    "int8_np = np.array([1, 2, 3], dtype=np.int8)\n",
    "int16_np = np.array([1, 2, 3], dtype=np.int16)\n",
    "int32_np = np.array([1, 2, 3], dtype=np.int32)\n",
    "int64_np = np.array([1, 2, 3], dtype=np.int64)\n",
    "uint8_np = np.array([1, 2, 3], dtype=np.uint8)\n",
    "uint16_np = np.array([1, 2, 3], dtype=np.uint16)\n",
    "uint32_np = np.array([1, 2, 3], dtype=np.uint32)\n",
    "uint64_np = np.array([1, 2, 3], dtype=np.uint64)\n",
    "float32_np = np.array([1, 2, 3], dtype=np.float32)\n",
    "float64_np = np.array([1, 2, 3], dtype=np.float64)\n",
    "\n",
    "print(\"int8_np: {}/{}B\".format(int8_np.dtype, int8_np.itemsize))\n",
    "print(\"int16_np: {}/{}B\".format(int16_np.dtype, int16_np.itemsize))\n",
    "print(\"int32_np: {}/{}B\".format(int32_np.dtype, int32_np.itemsize))\n",
    "print(\"int64_np: {}/{}B\\n\".format(int64_np.dtype, int64_np.itemsize))\n",
    "print(\"uint8_np: {}/{}B\".format(uint8_np.dtype, uint8_np.itemsize))\n",
    "print(\"uint16_np: {}/{}B\".format(uint16_np.dtype, uint16_np.itemsize))\n",
    "print(\"uint32_np: {}/{}B\".format(uint32_np.dtype, uint32_np.itemsize))\n",
    "print(\"uint64_np: {}/{}B\\n\".format(uint64_np.dtype, uint64_np.itemsize))\n",
    "print(\"float32_np: {}/{}B\".format(float32_np.dtype, float32_np.itemsize))\n",
    "print(\"float64_np: {}/{}B\".format(float64_np.dtype, float64_np.itemsize))"
   ]
  },
  {
   "cell_type": "code",
   "execution_count": 84,
   "id": "df266cc0",
   "metadata": {},
   "outputs": [
    {
     "name": "stdout",
     "output_type": "stream",
     "text": [
      "3200000B/3200000B\n"
     ]
    }
   ],
   "source": [
    "normal = np.random.normal(size=(50, 50, 32, 5))\n",
    "m_cap = normal.size * normal.itemsize\n",
    "print(\"{}B/{}B\".format(m_cap, normal.nbytes))"
   ]
  },
  {
   "cell_type": "code",
   "execution_count": 119,
   "id": "f0a672fb",
   "metadata": {},
   "outputs": [
    {
     "name": "stdout",
     "output_type": "stream",
     "text": [
      "original ndarray: \n",
      " [0 1 2 3 4 5]\n",
      "reshaped ndarray: \n",
      " [[0 1 2]\n",
      " [3 4 5]]\n"
     ]
    }
   ],
   "source": [
    "#numpy.reshape(a, newshape, order=‘C’)\n",
    "\n",
    "a = np.arange(6)\n",
    "b = np.reshape(a, (2, 3))\n",
    "print(\"original ndarray: \\n\", a)\n",
    "print(\"reshaped ndarray: \\n\", b)"
   ]
  },
  {
   "cell_type": "code",
   "execution_count": 86,
   "id": "94c24653",
   "metadata": {},
   "outputs": [
    {
     "name": "stdout",
     "output_type": "stream",
     "text": [
      "original ndarray: \n",
      " [ 0  1  2  3  4  5  6  7  8  9 10 11 12 13 14 15 16 17 18 19 20 21 22 23]\n",
      "reshaped ndarray: \n",
      " [[[ 0  1  2  3]\n",
      "  [ 4  5  6  7]\n",
      "  [ 8  9 10 11]]\n",
      "\n",
      " [[12 13 14 15]\n",
      "  [16 17 18 19]\n",
      "  [20 21 22 23]]]\n"
     ]
    }
   ],
   "source": [
    "a = np.arange(24)\n",
    "b = np.reshape(a, (2, 3, 4))\n",
    "\n",
    "print(\"original ndarray: \\n\", a)\n",
    "print(\"reshaped ndarray: \\n\", b)"
   ]
  },
  {
   "cell_type": "code",
   "execution_count": 118,
   "id": "c6a4a658",
   "metadata": {},
   "outputs": [
    {
     "name": "stdout",
     "output_type": "stream",
     "text": [
      "original ndarray: \n",
      " [0 1 2 3 4 5]\n",
      "reshaped ndarray: \n",
      " [[0 1 2]\n",
      " [3 4 5]] \n",
      "\n",
      "original ndarray: \n",
      " [ 0  1  2  3  4  5  6  7  8  9 10 11 12 13 14 15 16 17 18 19 20 21 22 23]\n",
      "reshaped ndarray: \n",
      " [[[ 0  1  2  3]\n",
      "  [ 4  5  6  7]\n",
      "  [ 8  9 10 11]]\n",
      "\n",
      " [[12 13 14 15]\n",
      "  [16 17 18 19]\n",
      "  [20 21 22 23]]]\n"
     ]
    }
   ],
   "source": [
    "#ndarray.reshape(shape, order=‘C')\n",
    "\n",
    "a = np.arange(6)\n",
    "b = a.reshape((2, 3))\n",
    "\n",
    "print(\"original ndarray: \\n\", a)\n",
    "print(\"reshaped ndarray: \\n\", b, '\\n')\n",
    "\n",
    "a =np.arange(24)\n",
    "b = a.reshape((2, 3, 4))\n",
    "print(\"original ndarray: \\n\", a)\n",
    "print(\"reshaped ndarray: \\n\", b)"
   ]
  },
  {
   "cell_type": "code",
   "execution_count": 88,
   "id": "8bcbef5f",
   "metadata": {},
   "outputs": [
    {
     "name": "stdout",
     "output_type": "stream",
     "text": [
      "55.0\n",
      "55.0\n"
     ]
    }
   ],
   "source": [
    "a = np.random.randint(0, 100, (100, ))\n",
    "\n",
    "print(a.reshape((20, 5)).mean(axis=0).max())\n",
    "print(np.max(np.mean(np.reshape(a, (20, 5)), axis=0)))"
   ]
  },
  {
   "cell_type": "code",
   "execution_count": 116,
   "id": "d19f20d2",
   "metadata": {},
   "outputs": [
    {
     "name": "stdout",
     "output_type": "stream",
     "text": [
      "(2, 6) (3, 4) (4, 3) (6, 2)\n"
     ]
    }
   ],
   "source": [
    "a = np.arange(12)\n",
    "b = a.reshape((2, -1))\n",
    "c = a.reshape((3, -1))\n",
    "d = a.reshape((4, -1))\n",
    "e = a.reshape((6, -1))\n",
    "\n",
    "print(b.shape, c.shape,\n",
    "d.shape, e.shape)"
   ]
  },
  {
   "cell_type": "code",
   "execution_count": 90,
   "id": "28b81966",
   "metadata": {},
   "outputs": [
    {
     "name": "stdout",
     "output_type": "stream",
     "text": [
      "(6, 2) (4, 3) (3, 4) (2, 6)\n"
     ]
    }
   ],
   "source": [
    "a = np.arange(12)\n",
    "b = a.reshape((-1, 2))\n",
    "c = a.reshape((-1, 3))\n",
    "d = a.reshape((-1, 4))\n",
    "e = a.reshape((-1, 6))\n",
    "print(b.shape, c.shape,\n",
    "d.shape, e.shape)"
   ]
  },
  {
   "cell_type": "code",
   "execution_count": 91,
   "id": "8fe48c61",
   "metadata": {},
   "outputs": [
    {
     "name": "stdout",
     "output_type": "stream",
     "text": [
      "(2, 3, 4) (2, 3, 4) (2, 3, 4)\n"
     ]
    }
   ],
   "source": [
    "a = np.arange(24)\n",
    "b = a.reshape((2, 3, -1))\n",
    "c = a.reshape((2, -1, 4))\n",
    "d = a.reshape((-1, 3, 4))\n",
    "print(b.shape, c.shape, d.shape)"
   ]
  },
  {
   "cell_type": "code",
   "execution_count": 115,
   "id": "41f1b65f",
   "metadata": {},
   "outputs": [
    {
     "name": "stdout",
     "output_type": "stream",
     "text": [
      "[[9 4]\n",
      " [3 6]]\n",
      "(1, 4) (4, 1)\n"
     ]
    }
   ],
   "source": [
    "\n",
    "a = np.random.randint(0, 10, size=(2, 2))\n",
    "print(a)\n",
    "\n",
    "row_vector = a.reshape(1, -1)\n",
    "col_vector = a.reshape(-1, 1)\n",
    "\n",
    "print(row_vector.shape, col_vector.shape)"
   ]
  },
  {
   "cell_type": "code",
   "execution_count": 93,
   "id": "abc157b1",
   "metadata": {},
   "outputs": [
    {
     "name": "stdout",
     "output_type": "stream",
     "text": [
      "original ndarray: \n",
      " [[7 8]\n",
      " [1 2]]\n",
      "resized ndarray: \n",
      " [[7 8 1]\n",
      " [2 7 8]]\n"
     ]
    }
   ],
   "source": [
    "#numpy.resize(a, new_shape)\n",
    "#a = np.arange(6)\n",
    "b = np.resize(a, (2, 3))\n",
    "print(\"original ndarray: \\n\", a)\n",
    "print(\"resized ndarray: \\n\", b)"
   ]
  },
  {
   "cell_type": "code",
   "execution_count": 94,
   "id": "c276ccda",
   "metadata": {},
   "outputs": [
    {
     "name": "stdout",
     "output_type": "stream",
     "text": [
      "original ndarray: \n",
      " [0 1 2 3 4 5]\n",
      "original ndarray: \n",
      " [0 1 2 3 4 5]\n",
      "resized ndarray: \n",
      " [0 1 2 3 4 5 0 1 2]\n"
     ]
    }
   ],
   "source": [
    "a = np.arange(6)\n",
    "#b = np.reshape(a, (9, ))\n",
    "print(\"original ndarray: \\n\", a)\n",
    "#print(\"resized ndarray: \\n\", b)\n",
    "b = np.resize(a, (9, ))\n",
    "print(\"original ndarray: \\n\", a)\n",
    "print(\"resized ndarray: \\n\", b)"
   ]
  },
  {
   "cell_type": "code",
   "execution_count": 114,
   "id": "893a9354",
   "metadata": {},
   "outputs": [
    {
     "name": "stdout",
     "output_type": "stream",
     "text": [
      "original ndarray: \n",
      " [0 1 2 3 4 5]\n",
      "resized ndarray: \n",
      " [[0 1 2 3]\n",
      " [4 5 0 1]\n",
      " [2 3 4 5]]\n"
     ]
    }
   ],
   "source": [
    "a = np.arange(6)\n",
    "b = np.resize(a, (3, 4))\n",
    "\n",
    "print(\"original ndarray: \\n\", a)\n",
    "print(\"resized ndarray: \\n\", b)"
   ]
  },
  {
   "cell_type": "code",
   "execution_count": 96,
   "id": "ce305b84",
   "metadata": {},
   "outputs": [
    {
     "name": "stdout",
     "output_type": "stream",
     "text": [
      "original ndarray: \n",
      " [0 1 2 3 4 5 6 7 8]\n",
      "resized ndarray: \n",
      " [[[0 1 2]\n",
      "  [3 4 5]\n",
      "  [6 7 8]]\n",
      "\n",
      " [[0 1 2]\n",
      "  [3 4 5]\n",
      "  [6 7 8]]]\n"
     ]
    }
   ],
   "source": [
    "a = np.arange(9)\n",
    "b = np.resize(a, (2, 3, 3))\n",
    "\n",
    "print(\"original ndarray: \\n\", a)\n",
    "print(\"resized ndarray: \\n\", b)"
   ]
  },
  {
   "cell_type": "code",
   "execution_count": 97,
   "id": "3aa7b8f1",
   "metadata": {},
   "outputs": [
    {
     "name": "stdout",
     "output_type": "stream",
     "text": [
      "original ndarray: \n",
      " [0 1 2 3 4 5 6 7 8]\n",
      "resized ndarray: \n",
      " [[0 1]\n",
      " [2 3]]\n"
     ]
    }
   ],
   "source": [
    "a = np.arange(9)\n",
    "b = np.resize(a, (2, 2))\n",
    "\n",
    "print(\"original ndarray: \\n\", a)\n",
    "print(\"resized ndarray: \\n\", b)"
   ]
  },
  {
   "cell_type": "code",
   "execution_count": 98,
   "id": "3584f9f7",
   "metadata": {},
   "outputs": [
    {
     "name": "stdout",
     "output_type": "stream",
     "text": [
      "original ndarray: \n",
      " [[0 1]\n",
      " [2 3]]\n",
      "resized ndarray: \n",
      " None\n"
     ]
    }
   ],
   "source": [
    "a = np.arange(9)\n",
    "b = a.resize((2, 2))\n",
    "\n",
    "print(\"original ndarray: \\n\", a)\n",
    "print(\"resized ndarray: \\n\", b)"
   ]
  },
  {
   "cell_type": "code",
   "execution_count": 99,
   "id": "4a1b7399",
   "metadata": {},
   "outputs": [
    {
     "name": "stdout",
     "output_type": "stream",
     "text": [
      "[[0 1 2]\n",
      " [3 4 5]\n",
      " [6 7 8]]\n"
     ]
    }
   ],
   "source": [
    "a = np.arange(9)\n",
    "a.resize((3, 3))\n",
    "print(a)"
   ]
  },
  {
   "cell_type": "code",
   "execution_count": 100,
   "id": "8340e3e1",
   "metadata": {},
   "outputs": [
    {
     "name": "stdout",
     "output_type": "stream",
     "text": [
      "[0 1 2 3 4 5 6 7 8] \n",
      "\n",
      "[[0 1 2]\n",
      " [3 4 5]\n",
      " [6 7 8]] \n",
      "\n",
      "[0 1 2 3 4 5 6 7 8] \n",
      "\n"
     ]
    }
   ],
   "source": [
    "M = np.arange(9)\n",
    "N = M.reshape((3, 3))\n",
    "O = N.flatten()\n",
    "\n",
    "print(M, '\\n')\n",
    "print(N, '\\n')\n",
    "print(O, '\\n')"
   ]
  },
  {
   "cell_type": "code",
   "execution_count": 101,
   "id": "0b9f1698",
   "metadata": {},
   "outputs": [
    {
     "name": "stdout",
     "output_type": "stream",
     "text": [
      "[ 0  1  2  3  4  5  6  7  8  9 10 11 12 13 14 15 16 17 18 19 20 21 22 23\n",
      " 24 25 26] \n",
      "\n",
      "[[[ 0  1  2]\n",
      "  [ 3  4  5]\n",
      "  [ 6  7  8]]\n",
      "\n",
      " [[ 9 10 11]\n",
      "  [12 13 14]\n",
      "  [15 16 17]]\n",
      "\n",
      " [[18 19 20]\n",
      "  [21 22 23]\n",
      "  [24 25 26]]] \n",
      "\n",
      "[ 0  1  2  3  4  5  6  7  8  9 10 11 12 13 14 15 16 17 18 19 20 21 22 23\n",
      " 24 25 26] \n",
      "\n"
     ]
    }
   ],
   "source": [
    "M = np.arange(27)\n",
    "N = M.reshape((3, 3, 3))\n",
    "O = N.flatten()\n",
    "\n",
    "print(M, '\\n')\n",
    "print(N, '\\n')\n",
    "print(O, '\\n')"
   ]
  },
  {
   "cell_type": "code",
   "execution_count": 102,
   "id": "609888c7",
   "metadata": {},
   "outputs": [
    {
     "name": "stdout",
     "output_type": "stream",
     "text": [
      "[ 0  1  2  3  4  5  6  7  8  9 10 11 12 13 14 15 16 17 18 19 20 21 22 23\n",
      " 24 25 26] \n",
      "\n",
      "N0: \n",
      " [[0 1 2]\n",
      " [3 4 5]\n",
      " [6 7 8]] \n",
      "\n",
      "N1: \n",
      " [[ 9 10 11]\n",
      " [12 13 14]\n",
      " [15 16 17]] \n",
      "\n",
      "N2: \n",
      " [[18 19 20]\n",
      " [21 22 23]\n",
      " [24 25 26]] \n",
      "\n"
     ]
    }
   ],
   "source": [
    "M = np.arange(27)\n",
    "N = M.reshape((3, 3, 3))\n",
    "O = N.flatten()\n",
    "\n",
    "N0, N1, N2 = N[0], N[1], N[2]\n",
    "print(O, '\\n')\n",
    "print(\"N0: \\n\", N0, '\\n')\n",
    "print(\"N1: \\n\", N1, '\\n')\n",
    "print(\"N2: \\n\", N2, '\\n')"
   ]
  },
  {
   "cell_type": "code",
   "execution_count": 103,
   "id": "5b9391df",
   "metadata": {},
   "outputs": [
    {
     "name": "stdout",
     "output_type": "stream",
     "text": [
      "[0 1 2 3 4 5 6 7 8] \n",
      "\n",
      "[[0 1 2]\n",
      " [3 4 5]\n",
      " [6 7 8]] \n",
      "\n",
      "[0 1 2 3 4 5 6 7 8] \n",
      "\n"
     ]
    }
   ],
   "source": [
    "M = np.arange(9)\n",
    "N = M.reshape((3, 3))\n",
    "O = N.ravel()\n",
    "print(M, '\\n')\n",
    "print(N, '\\n')\n",
    "print(O, '\\n')"
   ]
  },
  {
   "cell_type": "code",
   "execution_count": 104,
   "id": "61ec6ff1",
   "metadata": {},
   "outputs": [
    {
     "name": "stdout",
     "output_type": "stream",
     "text": [
      "[0 1 2 3 4]\n",
      "[[100 100 100]\n",
      " [  3   4   5]\n",
      " [  6   7   8]]\n",
      "[0 1 2 3 4]\n",
      "[10 10 10]\n",
      "[0 1 2 3 4]\n",
      "[100   1   2   3   4]\n"
     ]
    }
   ],
   "source": [
    "b = a.view()\n",
    "b[0] = 100\n",
    "a = np.arange(5)\n",
    "print(a)\n",
    "print(b)\n",
    "\n",
    "b = a[0:3]\n",
    "b[...] = 10\n",
    "a = np.arange(5)\n",
    "print(a)\n",
    "print(b)\n",
    "\n",
    "b = a.copy()\n",
    "b[0] = 100\n",
    "a = np.arange(5)\n",
    "print(a)\n",
    "print(b)"
   ]
  },
  {
   "cell_type": "code",
   "execution_count": 105,
   "id": "52155973",
   "metadata": {},
   "outputs": [
    {
     "name": "stdout",
     "output_type": "stream",
     "text": [
      "False\n",
      "True\n",
      "True\n"
     ]
    }
   ],
   "source": [
    "a = np.arange(5)\n",
    "b = a.copy()\n",
    "c = a.view()\n",
    "d = a[0:3]\n",
    "\n",
    "print(b.base is a)\n",
    "print(c.base is a)\n",
    "print(d.base is a)"
   ]
  },
  {
   "cell_type": "code",
   "execution_count": 106,
   "id": "20883ef8",
   "metadata": {},
   "outputs": [
    {
     "name": "stdout",
     "output_type": "stream",
     "text": [
      "True \n",
      "\n",
      "[100   1   2   3]\n",
      "[[100   1]\n",
      " [  2   3]]\n",
      "False \n",
      "\n",
      "[0 1 2 3 4]\n",
      "[[100   1]\n",
      " [  2   3]]\n"
     ]
    }
   ],
   "source": [
    "a = np.arange(4)\n",
    "b = np.reshape(a, (2, 2))\n",
    "b[0, 0] = 100\n",
    "print(b.base is a, '\\n')\n",
    "print(a)\n",
    "print(b)\n",
    "\n",
    "a = np.arange(5)\n",
    "b = np.resize(a, (2, 2))\n",
    "b[0, 0] = 100\n",
    "print(b.base is a, '\\n')\n",
    "print(a)\n",
    "print(b)"
   ]
  },
  {
   "cell_type": "code",
   "execution_count": 107,
   "id": "002950be",
   "metadata": {},
   "outputs": [
    {
     "name": "stdout",
     "output_type": "stream",
     "text": [
      "False \n",
      "\n",
      "[0 1 2 3]\n",
      "[[100   1]\n",
      " [  2   3]]\n"
     ]
    }
   ],
   "source": [
    "a = np.arange(4)\n",
    "b = np.reshape(a, (2, 2)).copy()\n",
    "b[0, 0] = 100\n",
    "print(b.base is a, '\\n')\n",
    "print(a)\n",
    "print(b)"
   ]
  },
  {
   "cell_type": "code",
   "execution_count": 108,
   "id": "66f8acb1",
   "metadata": {},
   "outputs": [
    {
     "name": "stdout",
     "output_type": "stream",
     "text": [
      "True \n",
      "\n",
      "[[-10   4   4]\n",
      " [  5   0   4]]\n",
      "[-10   4   4   5   0   4]\n",
      "False \n",
      "\n",
      "[[6 6 9]\n",
      " [3 6 0]]\n",
      "[-10   6   9   3   6   0]\n"
     ]
    }
   ],
   "source": [
    "from numpy.random import randint\n",
    "a = randint(0, 10, (2, 3))\n",
    "b = a.ravel()\n",
    "b[0] = -10\n",
    "print(b.base is a, '\\n')\n",
    "print(a)\n",
    "print(b)\n",
    "\n",
    "a = randint(0, 10, (2, 3))\n",
    "b = a.flatten()\n",
    "b[0] = -10\n",
    "print(b.base is a, '\\n')\n",
    "print(a)\n",
    "print(b)"
   ]
  },
  {
   "cell_type": "code",
   "execution_count": 109,
   "id": "69291b69",
   "metadata": {},
   "outputs": [
    {
     "name": "stdout",
     "output_type": "stream",
     "text": [
      "int8\n",
      "uint32\n",
      "float32\n"
     ]
    }
   ],
   "source": [
    "M = np.array([1, 2, 3], np.int8)\n",
    "N = M.astype(np.uint32)\n",
    "O = M.astype(np.float32)\n",
    "\n",
    "print(M.dtype)\n",
    "print(N.dtype)\n",
    "print(O.dtype)\n"
   ]
  },
  {
   "cell_type": "code",
   "execution_count": 110,
   "id": "2a651347",
   "metadata": {},
   "outputs": [
    {
     "name": "stdout",
     "output_type": "stream",
     "text": [
      "[[ 1.92968093  3.03216806 -9.24756092]\n",
      " [ 9.14023559  3.08206619 -4.38640187]\n",
      " [-3.99968452  7.61232018  7.27651488]] \n",
      "\n",
      "[[ 1  3 -9]\n",
      " [ 9  3 -4]\n",
      " [-3  7  7]]\n"
     ]
    }
   ],
   "source": [
    "M = np.random.uniform(low=-10, high=10, size=(3, 3))\n",
    "\n",
    "print(M, '\\n')\n",
    "print(M.astype(np.int32))"
   ]
  },
  {
   "cell_type": "code",
   "execution_count": 111,
   "id": "e295fc4f",
   "metadata": {},
   "outputs": [
    {
     "name": "stdout",
     "output_type": "stream",
     "text": [
      "bool: \n",
      "[ True False]\n",
      "int: \n",
      "[1 0]\n",
      "float: \n",
      "[1. 0.]\n"
     ]
    },
    {
     "name": "stderr",
     "output_type": "stream",
     "text": [
      "C:\\Users\\munin\\AppData\\Local\\Temp\\ipykernel_5256\\2517737898.py:2: DeprecationWarning: `np.float` is a deprecated alias for the builtin `float`. To silence this warning, use `float` by itself. Doing this will not modify any behavior and is safe. If you specifically wanted the numpy scalar type, use `np.float64` here.\n",
      "Deprecated in NumPy 1.20; for more details and guidance: https://numpy.org/devdocs/release/1.20.0-notes.html#deprecations\n",
      "  bools2floats = bools.astype(np.float)\n",
      "C:\\Users\\munin\\AppData\\Local\\Temp\\ipykernel_5256\\2517737898.py:3: DeprecationWarning: `np.int` is a deprecated alias for the builtin `int`. To silence this warning, use `int` by itself. Doing this will not modify any behavior and is safe. When replacing `np.int`, you may wish to use e.g. `np.int64` or `np.int32` to specify the precision. If you wish to review your current use, check the release note link for additional information.\n",
      "Deprecated in NumPy 1.20; for more details and guidance: https://numpy.org/devdocs/release/1.20.0-notes.html#deprecations\n",
      "  bools2ints = bools.astype(np.int)\n"
     ]
    }
   ],
   "source": [
    "bools = np.array([True, False])\n",
    "bools2floats = bools.astype(np.float)\n",
    "bools2ints = bools.astype(np.int)\n",
    "\n",
    "print(f\"bool: \\n{bools}\")\n",
    "print(f\"int: \\n{bools2ints}\")\n",
    "print(f\"float: \\n{bools2floats}\")"
   ]
  },
  {
   "cell_type": "code",
   "execution_count": 112,
   "id": "7b8a9cab",
   "metadata": {},
   "outputs": [
    {
     "name": "stdout",
     "output_type": "stream",
     "text": [
      "ints: \n",
      "[-2 -1  0  1  2]\n",
      "floats: \n",
      "[-2.5 -1.5  0.   1.5  2.5]\n",
      "\n",
      "ints -> bools: \n",
      "[ True  True False  True  True]\n",
      "floats -> bools: \n",
      "[ True  True False  True  True]\n"
     ]
    },
    {
     "name": "stderr",
     "output_type": "stream",
     "text": [
      "C:\\Users\\munin\\AppData\\Local\\Temp\\ipykernel_5256\\2372063323.py:4: DeprecationWarning: `np.bool` is a deprecated alias for the builtin `bool`. To silence this warning, use `bool` by itself. Doing this will not modify any behavior and is safe. If you specifically wanted the numpy scalar type, use `np.bool_` here.\n",
      "Deprecated in NumPy 1.20; for more details and guidance: https://numpy.org/devdocs/release/1.20.0-notes.html#deprecations\n",
      "  ints2bools = ints.astype(np.bool)\n",
      "C:\\Users\\munin\\AppData\\Local\\Temp\\ipykernel_5256\\2372063323.py:5: DeprecationWarning: `np.bool` is a deprecated alias for the builtin `bool`. To silence this warning, use `bool` by itself. Doing this will not modify any behavior and is safe. If you specifically wanted the numpy scalar type, use `np.bool_` here.\n",
      "Deprecated in NumPy 1.20; for more details and guidance: https://numpy.org/devdocs/release/1.20.0-notes.html#deprecations\n",
      "  floats2bools = ints.astype(np.bool)\n"
     ]
    }
   ],
   "source": [
    "ints = np.array([-2, -1, 0, 1, 2])\n",
    "floats = np.array([-2.5, -1.5, 0., 1.5, 2.5])\n",
    "\n",
    "ints2bools = ints.astype(np.bool)\n",
    "floats2bools = ints.astype(np.bool)\n",
    "\n",
    "print(f\"ints: \\n{ints}\")\n",
    "print(f\"floats: \\n{floats}\\n\")\n",
    "print(f\"ints -> bools: \\n{ints2bools}\")\n",
    "print(f\"floats -> bools: \\n{floats2bools}\")\n"
   ]
  },
  {
   "cell_type": "code",
   "execution_count": 113,
   "id": "868fca57",
   "metadata": {},
   "outputs": [
    {
     "name": "stdout",
     "output_type": "stream",
     "text": [
      "False False\n",
      "False False\n",
      "False True\n",
      "True False\n"
     ]
    }
   ],
   "source": [
    "\n",
    "print(-3 == True, -3 == False)\n",
    "print(3.14 == True, 3.14 == False)\n",
    "\n",
    "print(0. == True, 0. == False)\n",
    "print(1. == True, 1. == False)\n"
   ]
  },
  {
   "cell_type": "code",
   "execution_count": null,
   "id": "36f2cdc6",
   "metadata": {},
   "outputs": [],
   "source": []
  },
  {
   "cell_type": "code",
   "execution_count": null,
   "id": "2e40f3b6",
   "metadata": {},
   "outputs": [],
   "source": []
  },
  {
   "cell_type": "code",
   "execution_count": null,
   "id": "64e7f5bb",
   "metadata": {},
   "outputs": [],
   "source": []
  },
  {
   "cell_type": "code",
   "execution_count": null,
   "id": "db026237",
   "metadata": {},
   "outputs": [],
   "source": []
  },
  {
   "cell_type": "code",
   "execution_count": null,
   "id": "9cdb281c",
   "metadata": {},
   "outputs": [],
   "source": []
  },
  {
   "cell_type": "code",
   "execution_count": null,
   "id": "211c20dc",
   "metadata": {},
   "outputs": [],
   "source": []
  }
 ],
 "metadata": {
  "kernelspec": {
   "display_name": "Python 3 (ipykernel)",
   "language": "python",
   "name": "python3"
  },
  "language_info": {
   "codemirror_mode": {
    "name": "ipython",
    "version": 3
   },
   "file_extension": ".py",
   "mimetype": "text/x-python",
   "name": "python",
   "nbconvert_exporter": "python",
   "pygments_lexer": "ipython3",
   "version": "3.9.13"
  }
 },
 "nbformat": 4,
 "nbformat_minor": 5
}
