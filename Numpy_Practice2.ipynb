{
 "cells": [
  {
   "cell_type": "code",
   "execution_count": 1,
   "id": "3c24dddb",
   "metadata": {},
   "outputs": [],
   "source": [
    "import numpy as np"
   ]
  },
  {
   "cell_type": "code",
   "execution_count": 2,
   "id": "3f9e96e5",
   "metadata": {},
   "outputs": [
    {
     "name": "stdout",
     "output_type": "stream",
     "text": [
      "a:  [ 3  0  0 -5 -2]\n",
      "b:  [-5 -1  0 -3  1] \n",
      "\n",
      "a + b:  [-2 -1  0 -8 -1]\n"
     ]
    }
   ],
   "source": [
    "a = np.random.randint(-5, 5, (5, ))\n",
    "b = np.random.randint(-5, 5, (5, ))\n",
    "print(\"a: \", a)\n",
    "print(\"b: \", b, '\\n')\n",
    "print(\"a + b: \", a + b)"
   ]
  },
  {
   "cell_type": "code",
   "execution_count": 3,
   "id": "7b786d50",
   "metadata": {},
   "outputs": [
    {
     "name": "stdout",
     "output_type": "stream",
     "text": [
      "a:  [1 1 3 2 3]\n",
      "b:  [3 4 2 1 3] \n",
      "\n",
      "a + b:  [4 5 5 3 6]\n",
      "a - b:  [-2 -3  1  1  0]\n",
      "a * b:  [3 4 6 2 9]\n",
      "a / b:  [0.33333333 0.25       1.5        2.         1.        ]\n",
      "a // b:  [0 0 1 2 1]\n",
      "a % b:  [1 1 1 0 0]\n",
      "a ** b:  [ 1  1  9  2 27]\n"
     ]
    }
   ],
   "source": [
    "a = np.random.randint(1, 5, (5, ))\n",
    "b = np.random.randint(1, 5, (5, ))\n",
    "print(\"a: \", a)\n",
    "print(\"b: \", b, '\\n')\n",
    "print(\"a + b: \", a + b)\n",
    "print(\"a - b: \", a - b)\n",
    "print(\"a * b: \", a * b)\n",
    "print(\"a / b: \", a / b)\n",
    "print(\"a // b: \", a // b)\n",
    "print(\"a % b: \", a % b)\n",
    "print(\"a ** b: \", a ** b)"
   ]
  },
  {
   "cell_type": "code",
   "execution_count": 4,
   "id": "2402ce4e",
   "metadata": {},
   "outputs": [
    {
     "name": "stdout",
     "output_type": "stream",
     "text": [
      "a:  [2 1 3 2 1]\n",
      "b:  [4 2 2 2 4] \n",
      "\n",
      "a > b:  [False False  True False False]\n",
      "a >= b:  [False False  True  True False]\n",
      "a < b:  [ True  True False False  True]\n",
      "a <= b:  [ True  True False  True  True]\n",
      "a == b:  [False False False  True False]\n",
      "a != b:  [ True  True  True False  True]\n"
     ]
    }
   ],
   "source": [
    "\n",
    "a = np.random.randint(1, 5, (5, ))\n",
    "b = np.random.randint(1, 5, (5, ))\n",
    "print(\"a: \", a)\n",
    "print(\"b: \", b, '\\n')\n",
    "print(\"a > b: \", a > b)\n",
    "print(\"a >= b: \", a >= b)\n",
    "print(\"a < b: \", a < b)\n",
    "print(\"a <= b: \", a <= b)\n",
    "print(\"a == b: \", a == b)\n",
    "print(\"a != b: \", a != b)\n"
   ]
  },
  {
   "cell_type": "code",
   "execution_count": 5,
   "id": "df7a5002",
   "metadata": {},
   "outputs": [
    {
     "name": "stdout",
     "output_type": "stream",
     "text": [
      "a:  [2 3 2 2 2]\n",
      "b:  [3 1 1 2 1] \n",
      "\n",
      "a + b:  [5 4 3 4 3]\n",
      "a - b:  [-1  2  1  0  1]\n",
      "a * b:  [6 3 2 4 2]\n",
      "a / b:  [0.66666667 3.         2.         1.         2.        ]\n",
      "a // b:  [0 3 2 1 2]\n",
      "a % b:  [2 0 0 0 0]\n",
      "a ** b:  [8 3 2 4 2]\n"
     ]
    }
   ],
   "source": [
    "\n",
    "a = np.random.randint(1, 5, (5, ))\n",
    "b = np.random.randint(1, 5, (5, ))\n",
    "print(\"a: \", a)\n",
    "print(\"b: \", b, '\\n')\n",
    "\n",
    "print(\"a + b: \", a.__add__(b))\n",
    "print(\"a - b: \", a.__sub__(b))\n",
    "print(\"a * b: \", a.__mul__(b))\n",
    "print(\"a / b: \", a.__truediv__(b))\n",
    "print(\"a // b: \", a.__floordiv__(b))\n",
    "print(\"a % b: \", a.__mod__(b))\n",
    "print(\"a ** b: \", a.__pow__(b))\n"
   ]
  },
  {
   "cell_type": "code",
   "execution_count": 6,
   "id": "c64c5b1f",
   "metadata": {},
   "outputs": [
    {
     "name": "stdout",
     "output_type": "stream",
     "text": [
      "M: \n",
      " [[1 1 4]\n",
      " [4 2 3]]\n",
      "N: \n",
      " [[1 1 1]\n",
      " [3 3 2]] \n",
      "\n",
      "M + N: \n",
      " [[2 2 5]\n",
      " [7 5 5]]\n",
      "M - N: \n",
      " [[ 0  0  3]\n",
      " [ 1 -1  1]]\n",
      "M > N: \n",
      " [[False False  True]\n",
      " [ True False  True]]\n",
      "M >= N: \n",
      " [[ True  True  True]\n",
      " [ True False  True]]\n"
     ]
    }
   ],
   "source": [
    "\n",
    "M = np.random.randint(1, 5, (2, 3))\n",
    "N = np.random.randint(1, 5, (2, 3))\n",
    "\n",
    "print(\"M: \\n\", M)\n",
    "print(\"N: \\n\", N, '\\n')\n",
    "print(\"M + N: \\n\", M + N)\n",
    "print(\"M - N: \\n\", M - N)\n",
    "print(\"M > N: \\n\", M > N)\n",
    "print(\"M >= N: \\n\", M >= N)"
   ]
  },
  {
   "cell_type": "code",
   "execution_count": 7,
   "id": "0b245745",
   "metadata": {},
   "outputs": [
    {
     "name": "stdout",
     "output_type": "stream",
     "text": [
      "input:  [0 1 2 3 4]\n",
      "mask:  [0 1 0 1 0]\n",
      "output:  [0 1 2 6 4]\n"
     ]
    }
   ],
   "source": [
    "a = np.arange(5)\n",
    "mask = np.array([0, 1, 0, 1, 0])\n",
    "print(\"input: \", a)\n",
    "print(\"mask: \", mask)\n",
    "print(\"output: \", a*b)"
   ]
  },
  {
   "cell_type": "code",
   "execution_count": 8,
   "id": "8ede8cfa",
   "metadata": {},
   "outputs": [
    {
     "name": "stdout",
     "output_type": "stream",
     "text": [
      "input: \n",
      " [[1 2]\n",
      " [3 4]]\n",
      "mask: \n",
      " [[0 0]\n",
      " [1 0]]\n",
      "output: \n",
      " [[0 0]\n",
      " [3 0]]\n"
     ]
    }
   ],
   "source": [
    "\n",
    "a = np.arange(1, 5).reshape((2, 2))\n",
    "mask = np.array([[0, 0], [1, 0]])\n",
    "print(\"input: \\n\", a)\n",
    "print(\"mask: \\n\", mask)\n",
    "print(\"output: \\n\", a*mask)"
   ]
  },
  {
   "cell_type": "code",
   "execution_count": 9,
   "id": "50e2d8e6",
   "metadata": {},
   "outputs": [
    {
     "name": "stdout",
     "output_type": "stream",
     "text": [
      "A: 2/(3, 3)\n",
      "[[0 1 2]\n",
      " [3 4 5]\n",
      " [6 7 8]]\n",
      "B: 2/(1, 3)\n",
      "[[ 0 10 20]]\n",
      "\n",
      "A + B: 2/(3, 3)\n",
      "[[ 0 11 22]\n",
      " [ 3 14 25]\n",
      " [ 6 17 28]]\n"
     ]
    }
   ],
   "source": [
    "A = np.arange(9).reshape(3, 3)\n",
    "B = 10*np.arange(3).reshape((-1, 3))\n",
    "C = A + B\n",
    "\n",
    "\n",
    "print(\"A: {}/{}\\n{}\".format(A.ndim, A.shape, A))\n",
    "print(\"B: {}/{}\\n{}\\n\".format(A.ndim, B.shape, B))\n",
    "print(\"A + B: {}/{}\\n{}\".format(A.ndim, C.shape, C))"
   ]
  },
  {
   "cell_type": "code",
   "execution_count": 10,
   "id": "ebfa5280",
   "metadata": {},
   "outputs": [
    {
     "name": "stdout",
     "output_type": "stream",
     "text": [
      "A: 2/(3, 3)\n",
      "[[0 1 2]\n",
      " [3 4 5]\n",
      " [6 7 8]]\n",
      "B: 2/(3, 1)\n",
      "[[ 0]\n",
      " [10]\n",
      " [20]]\n",
      "\n",
      "A + B: 2/(3, 3)\n",
      "[[ 0  1  2]\n",
      " [13 14 15]\n",
      " [26 27 28]]\n"
     ]
    }
   ],
   "source": [
    "A = np.arange(9).reshape(3, 3)\n",
    "B = 10*np.arange(3).reshape((3, -1))\n",
    "C = A + B\n",
    "\n",
    "print(\"A: {}/{}\\n{}\".format(A.ndim, A.shape, A))\n",
    "print(\"B: {}/{}\\n{}\\n\".format(A.ndim, B.shape, B))\n",
    "print(\"A + B: {}/{}\\n{}\".format(A.ndim, C.shape, C))"
   ]
  },
  {
   "cell_type": "code",
   "execution_count": 11,
   "id": "baccf2d0",
   "metadata": {},
   "outputs": [
    {
     "name": "stdout",
     "output_type": "stream",
     "text": [
      "A: 2/(3, 1)\n",
      "[[0]\n",
      " [1]\n",
      " [2]]\n",
      "B: 2/(1, 3)\n",
      "[[ 0 10 20]]\n",
      "\n",
      "A + B: 2/(3, 3)\n",
      "[[ 0 10 20]\n",
      " [ 1 11 21]\n",
      " [ 2 12 22]]\n"
     ]
    }
   ],
   "source": [
    "A = np.arange(3).reshape((3, -1))\n",
    "B = 10*np.arange(3).reshape((-1, 3))\n",
    "C = A + B\n",
    "print(\"A: {}/{}\\n{}\".format(A.ndim, A.shape, A))\n",
    "print(\"B: {}/{}\\n{}\\n\".format(A.ndim, B.shape, B))\n",
    "print(\"A + B: {}/{}\\n{}\".format(A.ndim, C.shape, C))"
   ]
  },
  {
   "cell_type": "code",
   "execution_count": 12,
   "id": "ee0ebdb1",
   "metadata": {},
   "outputs": [
    {
     "name": "stdout",
     "output_type": "stream",
     "text": [
      "A: 3/(2, 3, 3)\n",
      "[[[ 0  1  2]\n",
      "  [ 3  4  5]\n",
      "  [ 6  7  8]]\n",
      "\n",
      " [[ 9 10 11]\n",
      "  [12 13 14]\n",
      "  [15 16 17]]]\n",
      "B: 3/(1, 3, 3)\n",
      "[[[ 0 10 20]\n",
      "  [30 40 50]\n",
      "  [60 70 80]]]\n",
      "\n",
      "A + B: 3/(2, 3, 3)\n",
      "[[[ 0 11 22]\n",
      "  [33 44 55]\n",
      "  [66 77 88]]\n",
      "\n",
      " [[ 9 20 31]\n",
      "  [42 53 64]\n",
      "  [75 86 97]]]\n"
     ]
    }
   ],
   "source": [
    "A = np.arange(18).reshape((2, 3, 3))\n",
    "B = 10*np.arange(9).reshape((1, 3, 3))\n",
    "C = A + B\n",
    "print(\"A: {}/{}\\n{}\".format(A.ndim, A.shape, A))\n",
    "print(\"B: {}/{}\\n{}\\n\".format(A.ndim, B.shape, B))\n",
    "print(\"A + B: {}/{}\\n{}\".format(A.ndim, C.shape, C))"
   ]
  },
  {
   "cell_type": "code",
   "execution_count": 13,
   "id": "e8168f52",
   "metadata": {},
   "outputs": [
    {
     "name": "stdout",
     "output_type": "stream",
     "text": [
      "A: 3/(2, 3, 3)\n",
      "[[[ 0  1  2]\n",
      "  [ 3  4  5]\n",
      "  [ 6  7  8]]\n",
      "\n",
      " [[ 9 10 11]\n",
      "  [12 13 14]\n",
      "  [15 16 17]]]\n",
      "B: 3/(2, 1, 3)\n",
      "[[[ 0 10 20]]\n",
      "\n",
      " [[30 40 50]]]\n",
      "\n",
      "A + B: 3/(2, 3, 3)\n",
      "[[[ 0 11 22]\n",
      "  [ 3 14 25]\n",
      "  [ 6 17 28]]\n",
      "\n",
      " [[39 50 61]\n",
      "  [42 53 64]\n",
      "  [45 56 67]]]\n"
     ]
    }
   ],
   "source": [
    "A = np.arange(18).reshape((2, 3, 3))\n",
    "B = 10*np.arange(6).reshape((2, 1, 3))\n",
    "C = A + B\n",
    "print(\"A: {}/{}\\n{}\".format(A.ndim, A.shape, A))\n",
    "print(\"B: {}/{}\\n{}\\n\".format(A.ndim, B.shape, B))\n",
    "print(\"A + B: {}/{}\\n{}\".format(A.ndim, C.shape, C))"
   ]
  },
  {
   "cell_type": "code",
   "execution_count": 14,
   "id": "c72dde29",
   "metadata": {},
   "outputs": [
    {
     "name": "stdout",
     "output_type": "stream",
     "text": [
      "A: 3/(2, 3, 3)\n",
      "[[[ 0  1  2]\n",
      "  [ 3  4  5]\n",
      "  [ 6  7  8]]\n",
      "\n",
      " [[ 9 10 11]\n",
      "  [12 13 14]\n",
      "  [15 16 17]]]\n",
      "B: 3/(2, 3, 1)\n",
      "[[[ 0]\n",
      "  [10]\n",
      "  [20]]\n",
      "\n",
      " [[30]\n",
      "  [40]\n",
      "  [50]]]\n",
      "\n",
      "A + B: 3/(2, 3, 3)\n",
      "[[[ 0  1  2]\n",
      "  [13 14 15]\n",
      "  [26 27 28]]\n",
      "\n",
      " [[39 40 41]\n",
      "  [52 53 54]\n",
      "  [65 66 67]]]\n"
     ]
    }
   ],
   "source": [
    "A = np.arange(18).reshape((2, 3, 3))\n",
    "B = 10*np.arange(6).reshape((2, 3, 1))\n",
    "C = A + B\n",
    "print(\"A: {}/{}\\n{}\".format(A.ndim, A.shape, A))\n",
    "print(\"B: {}/{}\\n{}\\n\".format(A.ndim, B.shape, B))\n",
    "print(\"A + B: {}/{}\\n{}\".format(A.ndim, C.shape, C))"
   ]
  },
  {
   "cell_type": "code",
   "execution_count": 15,
   "id": "ca8833e0",
   "metadata": {},
   "outputs": [
    {
     "name": "stdout",
     "output_type": "stream",
     "text": [
      "A: 3/(2, 1, 3)\n",
      "[[[0 1 2]]\n",
      "\n",
      " [[3 4 5]]]\n",
      "B: 3/(2, 3, 1)\n",
      "[[[ 0]\n",
      "  [10]\n",
      "  [20]]\n",
      "\n",
      " [[30]\n",
      "  [40]\n",
      "  [50]]]\n",
      "\n",
      "A + B: 3/(2, 3, 3)\n",
      "[[[ 0  1  2]\n",
      "  [10 11 12]\n",
      "  [20 21 22]]\n",
      "\n",
      " [[33 34 35]\n",
      "  [43 44 45]\n",
      "  [53 54 55]]]\n"
     ]
    }
   ],
   "source": [
    "A = np.arange(6).reshape((2, 1, 3))\n",
    "B = 10*np.arange(6).reshape((2, 3, 1))\n",
    "C = A + B\n",
    "print(\"A: {}/{}\\n{}\".format(A.ndim, A.shape, A))\n",
    "print(\"B: {}/{}\\n{}\\n\".format(A.ndim, B.shape, B))\n",
    "print(\"A + B: {}/{}\\n{}\".format(A.ndim, C.shape, C))"
   ]
  },
  {
   "cell_type": "code",
   "execution_count": 16,
   "id": "b643d2a2",
   "metadata": {},
   "outputs": [
    {
     "name": "stdout",
     "output_type": "stream",
     "text": [
      "shapes: ()/(5,)\n",
      "a:  3\n",
      "u:  [0 1 2 3 4] \n",
      "\n"
     ]
    }
   ],
   "source": [
    "a = np.array(3)\n",
    "u = np.arange(5)\n",
    "print(\"shapes: {}/{}\".format(a.shape, u.shape))\n",
    "print(\"a: \", a)\n",
    "print(\"u: \", u, '\\n')"
   ]
  },
  {
   "cell_type": "code",
   "execution_count": 17,
   "id": "d66b4853",
   "metadata": {},
   "outputs": [
    {
     "name": "stdout",
     "output_type": "stream",
     "text": [
      "shapes: ()/(4,)\n",
      "a:  3\n",
      "u:  [1 2 3 4] \n",
      "\n",
      "a + u:  [4 5 6 7]\n",
      "a - u:  [ 2  1  0 -1]\n",
      "a * u:  [ 3  6  9 12]\n",
      "a / u:  [3.   1.5  1.   0.75]\n",
      "a // u:  [3 1 1 0]\n",
      "a % u:  [0 1 0 3]\n",
      "a ** u:  [ 3  9 27 81] \n",
      "\n",
      "a > u:  [ True  True False False]\n",
      "a >= u:  [ True  True  True False]\n",
      "a < u:  [False False False  True]\n",
      "a <= u:  [False False  True  True]\n",
      "a == u:  [False False  True False]\n",
      "a != u:  [ True  True False  True]\n"
     ]
    }
   ],
   "source": [
    "a = np.array(3)\n",
    "u = np.arange(1, 5)\n",
    "shapes = \"shapes: {}/{}\"\n",
    "print(shapes.format(a.shape,u.shape))\n",
    "print(\"a: \", a)\n",
    "print(\"u: \", u, '\\n')\n",
    "\n",
    "print(\"a + u: \", a + u)\n",
    "print(\"a - u: \", a - u)\n",
    "print(\"a * u: \", a * u)\n",
    "print(\"a / u: \", a / u)\n",
    "print(\"a // u: \", a // u)\n",
    "print(\"a % u: \", a % u)\n",
    "print(\"a ** u: \", a ** u,'\\n')\n",
    "print(\"a > u: \", a > u)\n",
    "print(\"a >= u: \", a >= u)\n",
    "print(\"a < u: \", a < u)\n",
    "print(\"a <= u: \", a <= u)\n",
    "print(\"a == u: \", a == u)\n",
    "print(\"a != u: \", a != u)"
   ]
  },
  {
   "cell_type": "code",
   "execution_count": 18,
   "id": "175d6d2a",
   "metadata": {},
   "outputs": [
    {
     "name": "stdout",
     "output_type": "stream",
     "text": [
      "A: 1/(2,)\n",
      "[10 20]\n",
      "B: 1/(3, 2)\n",
      "[[0 1]\n",
      " [2 3]\n",
      " [4 5]]\n",
      "\n",
      "A + B: 1/(3, 2)\n",
      "[[10 21]\n",
      " [12 23]\n",
      " [14 25]]\n"
     ]
    }
   ],
   "source": [
    "A = np.array([10, 20])\n",
    "B = np.arange(6).reshape((3, 2))\n",
    "C = A + B\n",
    "\n",
    "print(\"A: {}/{}\\n{}\".format(A.ndim, A.shape, A))\n",
    "print(\"B: {}/{}\\n{}\\n\".format(A.ndim, B.shape, B))\n",
    "print(\"A + B: {}/{}\\n{}\".format(A.ndim, C.shape, C))\n"
   ]
  },
  {
   "cell_type": "code",
   "execution_count": 19,
   "id": "bd2301d3",
   "metadata": {},
   "outputs": [
    {
     "name": "stdout",
     "output_type": "stream",
     "text": [
      "A: 3/(2, 3, 4)\n",
      "[[[ 0  1  2  3]\n",
      "  [ 4  5  6  7]\n",
      "  [ 8  9 10 11]]\n",
      "\n",
      " [[12 13 14 15]\n",
      "  [16 17 18 19]\n",
      "  [20 21 22 23]]]\n",
      "B: 3/(3, 4)\n",
      "[[  0  10  20  30]\n",
      " [ 40  50  60  70]\n",
      " [ 80  90 100 110]]\n",
      "\n",
      "A + B: 3/(2, 3, 4)\n",
      "[[[  0  11  22  33]\n",
      "  [ 44  55  66  77]\n",
      "  [ 88  99 110 121]]\n",
      "\n",
      " [[ 12  23  34  45]\n",
      "  [ 56  67  78  89]\n",
      "  [100 111 122 133]]]\n"
     ]
    }
   ],
   "source": [
    "A = np.arange(2*3*4).reshape((2, 3, 4))\n",
    "B = 10*np.arange(3*4).reshape((3, 4))\n",
    "C = A + B\n",
    "print(\"A: {}/{}\\n{}\".format(A.ndim, A.shape, A))\n",
    "print(\"B: {}/{}\\n{}\\n\".format(A.ndim, B.shape, B))\n",
    "print(\"A + B: {}/{}\\n{}\".format(A.ndim, C.shape, C))"
   ]
  },
  {
   "cell_type": "code",
   "execution_count": 20,
   "id": "8fd81d18",
   "metadata": {},
   "outputs": [
    {
     "name": "stdout",
     "output_type": "stream",
     "text": [
      "A: 3/(2, 3, 4)\n",
      "[[[ 0  1  2  3]\n",
      "  [ 4  5  6  7]\n",
      "  [ 8  9 10 11]]\n",
      "\n",
      " [[12 13 14 15]\n",
      "  [16 17 18 19]\n",
      "  [20 21 22 23]]]\n",
      "B: 3/(4,)\n",
      "[ 0 10 20 30]\n",
      "\n",
      "A + B: 3/(2, 3, 4)\n",
      "[[[ 0 11 22 33]\n",
      "  [ 4 15 26 37]\n",
      "  [ 8 19 30 41]]\n",
      "\n",
      " [[12 23 34 45]\n",
      "  [16 27 38 49]\n",
      "  [20 31 42 53]]]\n"
     ]
    }
   ],
   "source": [
    "\n",
    "A = np.arange(2*3*4).reshape((2, 3, 4))\n",
    "B = 10*np.arange(4)\n",
    "C = A + B\n",
    "\n",
    "print(\"A: {}/{}\\n{}\".format(A.ndim, A.shape, A))\n",
    "print(\"B: {}/{}\\n{}\\n\".format(A.ndim, B.shape, B))\n",
    "print(\"A + B: {}/{}\\n{}\".format(A.ndim, C.shape, C))\n"
   ]
  },
  {
   "cell_type": "code",
   "execution_count": 21,
   "id": "226a5030",
   "metadata": {},
   "outputs": [
    {
     "name": "stdout",
     "output_type": "stream",
     "text": [
      "ndarray: \n",
      "[0 1 2 3 4 5 6 7 8 9]\n",
      "\n",
      "a[0] :  0\n",
      "a[2] :  2\n",
      "a[-1] :  9\n",
      "a[-2] :  8\n"
     ]
    }
   ],
   "source": [
    "\n",
    "a = np.arange(10)\n",
    "print(f\"ndarray: \\n{a}\\n\")\n",
    "a[-1] : 9\n",
    "a[-2] : 8\n",
    "print(\"a[0] : \", a[0])\n",
    "print(\"a[2] : \", a[2])\n",
    "\n",
    "print(\"a[-1] : \", a[-1]) # the last element\n",
    "print(\"a[-2] : \", a[-2]) # the 2nd last element\n"
   ]
  },
  {
   "cell_type": "code",
   "execution_count": 22,
   "id": "ccbe1e47",
   "metadata": {},
   "outputs": [
    {
     "name": "stdout",
     "output_type": "stream",
     "text": [
      "ndarray: \n",
      "[0 1 2 3 4]\n",
      "\n",
      "0\n",
      "1\n",
      "2\n",
      "3\n",
      "4\n"
     ]
    }
   ],
   "source": [
    "\n",
    "a = np.arange(5)\n",
    "print(f\"ndarray: \\n{a}\\n\")\n",
    "\n",
    "for data in a:\n",
    "    print(data)"
   ]
  },
  {
   "cell_type": "code",
   "execution_count": 23,
   "id": "b9c85e0b",
   "metadata": {},
   "outputs": [
    {
     "name": "stdout",
     "output_type": "stream",
     "text": [
      "ndarray: \n",
      "[0 1 2 3 4 5 6 7 8 9]\n",
      "\n",
      "a[0:3] :  [0 1 2]\n",
      "a[3:7] :  [3 4 5 6]\n",
      "a[5:-1] :  [5 6 7 8]\n"
     ]
    }
   ],
   "source": [
    "\n",
    "a = np.arange(10)\n",
    "print(f\"ndarray: \\n{a}\\n\")\n",
    "\n",
    "print(\"a[0:3] : \", a[0:3])\n",
    "print(\"a[3:7] : \", a[3:7])\n",
    "print(\"a[5:-1] : \", a[5:-1])\n"
   ]
  },
  {
   "cell_type": "code",
   "execution_count": 24,
   "id": "530fb454",
   "metadata": {},
   "outputs": [
    {
     "name": "stdout",
     "output_type": "stream",
     "text": [
      "ndarray: \n",
      "[0 1 2 3 4 5 6 7 8 9]\n",
      "\n",
      "a[2:] :  [2 3 4 5 6 7 8 9]\n",
      "a[-2:] :  [8 9]\n",
      "a[:5] :  [0 1 2 3 4]\n",
      "a[:-3] :  [0 1 2 3 4 5 6]\n",
      "a[:] :  [0 1 2 3 4 5 6 7 8 9]\n"
     ]
    }
   ],
   "source": [
    "\n",
    "a = np.arange(10)\n",
    "print(f\"ndarray: \\n{a}\\n\")\n",
    "print(\"a[2:] : \", a[2:])\n",
    "print(\"a[-2:] : \", a[-2:]) # the last two elements\n",
    "print(\"a[:5] : \", a[:5])\n",
    "print(\"a[:-3] : \", a[:-3])\n",
    "print(\"a[:] : \", a[:])\n"
   ]
  },
  {
   "cell_type": "code",
   "execution_count": 25,
   "id": "d19a1fdf",
   "metadata": {},
   "outputs": [
    {
     "name": "stdout",
     "output_type": "stream",
     "text": [
      "ndarray: \n",
      "[0 1 2 3 4 5 6 7 8 9]\n",
      "\n",
      "a[2:7:2] :  [2 4 6]\n",
      "a[::3] :  [0 3 6 9]\n"
     ]
    }
   ],
   "source": [
    "\n",
    "a = np.arange(10)\n",
    "print(f\"ndarray: \\n{a}\\n\")\n",
    "print(\"a[2:7:2] : \", a[2:7:2])\n",
    "print(\"a[::3] : \", a[::3])\n"
   ]
  },
  {
   "cell_type": "code",
   "execution_count": 26,
   "id": "a113f42e",
   "metadata": {},
   "outputs": [
    {
     "name": "stdout",
     "output_type": "stream",
     "text": [
      "ndarray: \n",
      "[0 1 2 3 4 5 6 7 8 9]\n",
      "\n",
      "a[7:2:-1] :  [7 6 5 4 3]\n",
      "a[::-1] :  [9 8 7 6 5 4 3 2 1 0]\n",
      "a[8:3:-2] :  [8 6 4]\n",
      "a[::-3] :  [9 6 3 0]\n"
     ]
    }
   ],
   "source": [
    "\n",
    "a = np.arange(10)\n",
    "print(f\"ndarray: \\n{a}\\n\")\n",
    "print(\"a[7:2:-1] : \", a[7:2:-1])\n",
    "print(\"a[::-1] : \", a[::-1])\n",
    "print(\"a[8:3:-2] : \", a[8:3:-2])\n",
    "print(\"a[::-3] : \", a[::-3])"
   ]
  },
  {
   "cell_type": "code",
   "execution_count": 27,
   "id": "41e6abb7",
   "metadata": {},
   "outputs": [
    {
     "name": "stdout",
     "output_type": "stream",
     "text": [
      "ndarray: \n",
      "[0 1 2 3 4 5 6 7 8 9]\n",
      "\n",
      "[0 3 6 9]\n",
      "[0 3 6 9]\n",
      "[0 3 6 9]\n"
     ]
    }
   ],
   "source": [
    "\n",
    "a = np.arange(10)\n",
    "indices = np.array([0, 3, 6, -1])\n",
    "print(f\"ndarray: \\n{a}\\n\")\n",
    "print(a[[0, 3, 6, -1]])\n",
    "print(a[indices])\n",
    "print(a[a%3==0])\n"
   ]
  },
  {
   "cell_type": "code",
   "execution_count": 28,
   "id": "dc9e7d8d",
   "metadata": {},
   "outputs": [
    {
     "name": "stdout",
     "output_type": "stream",
     "text": [
      "[1, 2, 3, 4, 5, 6, 7, 8, 9, 10]\n",
      "[ 1  2  3  4  5  6  7  8  9 10]\n",
      "[ 0  0  0  0  0  6  7  8  9 10]\n",
      "[ 0  0  0  0  0  6  7  8  9 10]\n"
     ]
    }
   ],
   "source": [
    "\n",
    "a = list(range(1, 11))\n",
    "print(a)\n",
    "\n",
    "a = np.arange(1, 11)\n",
    "print(a)\n",
    "\n",
    "for data_idx in range(5):\n",
    "    a[data_idx] = 0\n",
    "print(a)\n",
    "\n",
    "a[:5] = 0\n",
    "print(a)\n"
   ]
  },
  {
   "cell_type": "code",
   "execution_count": 29,
   "id": "f6e3dd5d",
   "metadata": {},
   "outputs": [
    {
     "name": "stdout",
     "output_type": "stream",
     "text": [
      "[ 1  2  3  4  5  6  7  8  9 10]\n",
      "[200   2 200   4 200   6 200   8 200  10]\n",
      "[200   2 200   4 200 300 200   8 300  10]\n"
     ]
    }
   ],
   "source": [
    "\n",
    "a = np.arange(1, 11)\n",
    "print(a)\n",
    "\n",
    "a[::2] = 200\n",
    "print(a)\n",
    "\n",
    "a[5:-1:3] = 300\n",
    "print(a)\n"
   ]
  },
  {
   "cell_type": "code",
   "execution_count": 30,
   "id": "88eb8224",
   "metadata": {},
   "outputs": [
    {
     "name": "stdout",
     "output_type": "stream",
     "text": [
      "[0, 1, 2]\n",
      "[3, 4, 5]\n",
      "[6, 7, 8]\n",
      "0 1 2\n",
      "3 4 2\n",
      "6 7 8\n"
     ]
    }
   ],
   "source": [
    "\n",
    "a = [[0, 1, 2], [3, 4, 5], [6, 7, 8]]\n",
    "\n",
    "print(a[0])\n",
    "print(a[1])\n",
    "print(a[2])\n",
    "print(a[0][0], a[0][1], a[0][2])\n",
    "print(a[1][0], a[1][1], a[0][2])\n",
    "print(a[2][0], a[2][1], a[2][2])"
   ]
  },
  {
   "cell_type": "code",
   "execution_count": 31,
   "id": "5b6d105b",
   "metadata": {},
   "outputs": [
    {
     "name": "stdout",
     "output_type": "stream",
     "text": [
      "ndarray: \n",
      "[[ 0  1  2  3]\n",
      " [ 4  5  6  7]\n",
      " [ 8  9 10 11]]\n",
      "\n",
      "a[0]:  [0 1 2 3]\n",
      "a[1]:  [4 5 6 7]\n",
      "a[2]:  [ 8  9 10 11]\n"
     ]
    }
   ],
   "source": [
    "a = np.arange(12).reshape((3, 4))\n",
    "print(f\"ndarray: \\n{a}\\n\")\n",
    "\n",
    "print(\"a[0]: \", a[0])\n",
    "print(\"a[1]: \", a[1])\n",
    "print(\"a[2]: \", a[2])"
   ]
  },
  {
   "cell_type": "code",
   "execution_count": 32,
   "id": "7cb123f9",
   "metadata": {},
   "outputs": [
    {
     "name": "stdout",
     "output_type": "stream",
     "text": [
      "ndarray: \n",
      "[[ 0  1  2  3]\n",
      " [ 4  5  6  7]\n",
      " [ 8  9 10 11]]\n",
      "\n",
      "[0 1 2 3]\n",
      "[4 5 6 7]\n",
      "[ 8  9 10 11]\n"
     ]
    }
   ],
   "source": [
    "a = np.arange(12).reshape((3, 4))\n",
    "print(f\"ndarray: \\n{a}\\n\")\n",
    "\n",
    "for data in a:\n",
    "    print(data)"
   ]
  },
  {
   "cell_type": "code",
   "execution_count": 33,
   "id": "66fc4a77",
   "metadata": {},
   "outputs": [
    {
     "name": "stdout",
     "output_type": "stream",
     "text": [
      "ndarray: \n",
      "[[0 1 2]\n",
      " [3 4 5]\n",
      " [6 7 8]]\n",
      "\n",
      "0 1 2\n",
      "3 4 5\n",
      "6 7 8\n",
      "ndarray: \n",
      "[[0 1 2]\n",
      " [3 4 5]\n",
      " [6 7 8]]\n",
      "\n",
      "0 1 2\n",
      "3 4 5\n",
      "6 7 8\n"
     ]
    }
   ],
   "source": [
    "\n",
    "a = np.arange(9).reshape((3, 3))\n",
    "print(f\"ndarray: \\n{a}\\n\")\n",
    "\n",
    "print(a[0, 0], a[0, 1], a[0, 2])\n",
    "print(a[1, 0], a[1, 1], a[1, 2])\n",
    "print(a[2, 0], a[2, 1], a[2, 2])\n",
    "\n",
    "a = np.arange(9).reshape((3, 3))\n",
    "print(f\"ndarray: \\n{a}\\n\")\n",
    "\n",
    "print(a[0][0], a[0][1], a[0][2])\n",
    "print(a[1][0], a[1][1], a[1][2])\n",
    "print(a[2][0], a[2][1], a[2][2])\n"
   ]
  },
  {
   "cell_type": "code",
   "execution_count": 34,
   "id": "6158225d",
   "metadata": {},
   "outputs": [
    {
     "name": "stdout",
     "output_type": "stream",
     "text": [
      "ndarray: \n",
      "[[ 0  1  2  3]\n",
      " [ 4  5  6  7]\n",
      " [ 8  9 10 11]]\n",
      "\n",
      "a[0, 1:] :  [1 2 3]\n",
      "a[1, :3] :  [4 5 6]\n",
      "a[2, 1:3] :  [ 9 10]\n"
     ]
    }
   ],
   "source": [
    "a = np.arange(12).reshape((3, 4))\n",
    "print(f\"ndarray: \\n{a}\\n\")\n",
    "print(\"a[0, 1:] : \", a[0, 1:])\n",
    "print(\"a[1, :3] : \", a[1, :3])\n",
    "print(\"a[2, 1:3] : \", a[2, 1:3])\n"
   ]
  },
  {
   "cell_type": "code",
   "execution_count": 35,
   "id": "3ab5544c",
   "metadata": {},
   "outputs": [
    {
     "name": "stdout",
     "output_type": "stream",
     "text": [
      "ndarray: \n",
      "[[ 0  1  2]\n",
      " [ 3  4  5]\n",
      " [ 6  7  8]\n",
      " [ 9 10 11]]\n",
      "\n",
      "a[1:, 0] :  [3 6 9]\n",
      "a[:3, 1] :  [1 4 7]\n",
      "a[1:3, 2] :  [5 8]\n"
     ]
    }
   ],
   "source": [
    "\n",
    "a = np.arange(12).reshape((4, 3))\n",
    "print(f\"ndarray: \\n{a}\\n\")\n",
    "print(\"a[1:, 0] : \", a[1:, 0])\n",
    "print(\"a[:3, 1] : \", a[:3, 1])\n",
    "print(\"a[1:3, 2] : \", a[1:3, 2])"
   ]
  },
  {
   "cell_type": "code",
   "execution_count": 36,
   "id": "4f101673",
   "metadata": {},
   "outputs": [
    {
     "name": "stdout",
     "output_type": "stream",
     "text": [
      "ndarray: \n",
      "[[ 0  1  2  3]\n",
      " [ 4  5  6  7]\n",
      " [ 8  9 10 11]\n",
      " [12 13 14 15]]\n",
      "\n",
      "a[1:3, 1:3] : \n",
      " [[ 5  6]\n",
      " [ 9 10]]\n",
      "a[:2, :3] : \n",
      " [[0 1 2]\n",
      " [4 5 6]]\n",
      "a[1:, 2:] : \n",
      " [[ 6  7]\n",
      " [10 11]\n",
      " [14 15]]\n",
      "a[2:, :-2] : \n",
      " [[ 8  9]\n",
      " [12 13]]\n"
     ]
    }
   ],
   "source": [
    "\n",
    "a = np.arange(16).reshape((4, 4))\n",
    "print(f\"ndarray: \\n{a}\\n\")\n",
    "print(\"a[1:3, 1:3] : \\n\", a[1:3, 1:3])\n",
    "print(\"a[:2, :3] : \\n\", a[:2, :3])\n",
    "print(\"a[1:, 2:] : \\n\", a[1:, 2:])\n",
    "print(\"a[2:, :-2] : \\n\", a[2:, :-2])"
   ]
  },
  {
   "cell_type": "code",
   "execution_count": 37,
   "id": "054a798c",
   "metadata": {},
   "outputs": [
    {
     "name": "stdout",
     "output_type": "stream",
     "text": [
      "ndarray: \n",
      "[[0 1 2]\n",
      " [3 4 5]\n",
      " [6 7 8]]\n",
      "\n",
      "horizontal_flip: \n",
      "[[2 1 0]\n",
      " [5 4 3]\n",
      " [8 7 6]]\n",
      "\n",
      "vertical_flip: \n",
      "[[6 7 8]\n",
      " [3 4 5]\n",
      " [0 1 2]]\n",
      "\n",
      "rotation: \n",
      "[[8 7 6]\n",
      " [5 4 3]\n",
      " [2 1 0]]\n",
      "\n"
     ]
    }
   ],
   "source": [
    "image = np.arange(9).reshape((3, 3))\n",
    "print(f\"ndarray: \\n{image}\\n\")\n",
    "\n",
    "horizontal_flip = image[:, ::-1]\n",
    "print(f\"horizontal_flip: \\n{horizontal_flip}\\n\")\n",
    "\n",
    "vertical_flip = image[::-1, :]\n",
    "print(f\"vertical_flip: \\n{vertical_flip}\\n\")\n",
    "\n",
    "rotation = image[::-1, ::-1]\n",
    "print(f\"rotation: \\n{rotation}\\n\")\n"
   ]
  },
  {
   "cell_type": "code",
   "execution_count": 38,
   "id": "aaf65fb8",
   "metadata": {},
   "outputs": [
    {
     "name": "stdout",
     "output_type": "stream",
     "text": [
      "ndarray: \n",
      "[[ 0  1  2  3]\n",
      " [ 4  5  6  7]\n",
      " [ 8  9 10 11]\n",
      " [12 13 14 15]]\n",
      "\n",
      "a[0, :] : \n",
      " [0 1 2 3]\n",
      "a[0, ...] : \n",
      " [0 1 2 3]\n",
      "a[:, 1] : \n",
      " [ 1  5  9 13]\n",
      "a[..., 1] : \n",
      " [ 1  5  9 13]\n"
     ]
    }
   ],
   "source": [
    "a = np.arange(16).reshape((4, 4))\n",
    "print(f\"ndarray: \\n{a}\\n\")\n",
    "print(\"a[0, :] : \\n\", a[0, :])\n",
    "print(\"a[0, ...] : \\n\", a[0, ...])\n",
    "print(\"a[:, 1] : \\n\", a[:, 1])\n",
    "print(\"a[..., 1] : \\n\", a[..., 1])"
   ]
  },
  {
   "cell_type": "code",
   "execution_count": 39,
   "id": "1418b456",
   "metadata": {},
   "outputs": [
    {
     "name": "stdout",
     "output_type": "stream",
     "text": [
      "ndarray: \n",
      "[[[ 0  1  2]\n",
      "  [ 3  4  5]\n",
      "  [ 6  7  8]]\n",
      "\n",
      " [[ 9 10 11]\n",
      "  [12 13 14]\n",
      "  [15 16 17]]\n",
      "\n",
      " [[18 19 20]\n",
      "  [21 22 23]\n",
      "  [24 25 26]]]\n",
      "\n",
      "a[0] : \n",
      " [[0 1 2]\n",
      " [3 4 5]\n",
      " [6 7 8]]\n",
      "a[1] : \n",
      " [[ 9 10 11]\n",
      " [12 13 14]\n",
      " [15 16 17]]\n",
      "a[2] : \n",
      " [[18 19 20]\n",
      " [21 22 23]\n",
      " [24 25 26]]\n"
     ]
    }
   ],
   "source": [
    "a = np.arange(3*3*3).reshape((3, 3, 3))\n",
    "print(f\"ndarray: \\n{a}\\n\")\n",
    "print(\"a[0] : \\n\", a[0])\n",
    "print(\"a[1] : \\n\", a[1])\n",
    "print(\"a[2] : \\n\", a[2])"
   ]
  },
  {
   "cell_type": "code",
   "execution_count": 40,
   "id": "34c4bf93",
   "metadata": {},
   "outputs": [
    {
     "name": "stdout",
     "output_type": "stream",
     "text": [
      "ndarray: \n",
      "[[[ 0  1  2]\n",
      "  [ 3  4  5]\n",
      "  [ 6  7  8]]\n",
      "\n",
      " [[ 9 10 11]\n",
      "  [12 13 14]\n",
      "  [15 16 17]]\n",
      "\n",
      " [[18 19 20]\n",
      "  [21 22 23]\n",
      "  [24 25 26]]]\n",
      "\n",
      "a[0, 0] : \n",
      " [0 1 2]\n",
      "a[0, 1] : \n",
      " [3 4 5]\n",
      "a[0, 2] : \n",
      " [6 7 8] \n",
      "\n",
      "a[1, 0] : \n",
      " [ 9 10 11]\n",
      "a[1, 1] : \n",
      " [12 13 14]\n",
      "a[1, 2] : \n",
      " [15 16 17] \n",
      "\n",
      "a[2, 0] : \n",
      " [18 19 20]\n",
      "a[2, 1] : \n",
      " [21 22 23]\n",
      "a[2, 2] : \n",
      " [24 25 26]\n"
     ]
    }
   ],
   "source": [
    "\n",
    "a = np.arange(3*3*3).reshape((3, 3, 3))\n",
    "print(f\"ndarray: \\n{a}\\n\")\n",
    "print(\"a[0, 0] : \\n\", a[0, 0])\n",
    "print(\"a[0, 1] : \\n\", a[0, 1])\n",
    "print(\"a[0, 2] : \\n\", a[0, 2], '\\n')\n",
    "print(\"a[1, 0] : \\n\", a[1, 0])\n",
    "print(\"a[1, 1] : \\n\", a[1, 1])\n",
    "print(\"a[1, 2] : \\n\", a[1, 2], '\\n')\n",
    "print(\"a[2, 0] : \\n\", a[2, 0])\n",
    "print(\"a[2, 1] : \\n\", a[2, 1])\n",
    "print(\"a[2, 2] : \\n\", a[2, 2])"
   ]
  },
  {
   "cell_type": "code",
   "execution_count": 41,
   "id": "23fc6ab3",
   "metadata": {},
   "outputs": [
    {
     "name": "stdout",
     "output_type": "stream",
     "text": [
      "ndarray: \n",
      "[[[ 0  1  2]\n",
      "  [ 3  4  5]\n",
      "  [ 6  7  8]]\n",
      "\n",
      " [[ 9 10 11]\n",
      "  [12 13 14]\n",
      "  [15 16 17]]\n",
      "\n",
      " [[18 19 20]\n",
      "  [21 22 23]\n",
      "  [24 25 26]]]\n",
      "\n",
      "a[0, :2, :2] : \n",
      " [[0 1]\n",
      " [3 4]]\n",
      "a[1, :2, :] : \n",
      " [[ 9 10 11]\n",
      " [12 13 14]]\n",
      "a[2, -2:, -2:] : \n",
      " [[22 23]\n",
      " [25 26]]\n"
     ]
    }
   ],
   "source": [
    "\n",
    "a = np.arange(3*3*3).reshape((3, 3, 3))\n",
    "print(f\"ndarray: \\n{a}\\n\")\n",
    "print(\"a[0, :2, :2] : \\n\", a[0, :2, :2])\n",
    "print(\"a[1, :2, :] : \\n\", a[1, :2, :])\n",
    "print(\"a[2, -2:, -2:] : \\n\", a[2, -2:, -2:])\n"
   ]
  },
  {
   "cell_type": "code",
   "execution_count": 42,
   "id": "9da6dc87",
   "metadata": {},
   "outputs": [
    {
     "name": "stdout",
     "output_type": "stream",
     "text": [
      "image set:  (32, 100, 200)\n",
      "(100, 200)\n"
     ]
    }
   ],
   "source": [
    "images = np.random.normal(size=(32, 100, 200))\n",
    "print(\"image set: \", images.shape)\n",
    "\n",
    "image0 = images[0, :, :]\n",
    "image0 = images[0, ...]\n",
    "print(image0.shape)"
   ]
  },
  {
   "cell_type": "code",
   "execution_count": 43,
   "id": "657d7e52",
   "metadata": {},
   "outputs": [
    {
     "name": "stdout",
     "output_type": "stream",
     "text": [
      "image set:  (32, 100, 200)\n",
      "(32, 100)\n",
      "(32, 100) \n",
      "\n",
      "(100,)\n",
      "(100,)\n"
     ]
    }
   ],
   "source": [
    "\n",
    "images = np.random.normal(size=(32, 100, 200))\n",
    "print(\"image set: \", images.shape)\n",
    "\n",
    "col0 = images[:, :, 0]\n",
    "print(col0.shape)\n",
    "\n",
    "col0 = images[..., 0]\n",
    "print(col0.shape, '\\n')\n",
    "\n",
    "image0_col0 = images[0, :, 0]\n",
    "print(image0_col0.shape)\n",
    "\n",
    "image0_col0 = images[0, ..., 0]\n",
    "print(image0_col0.shape)\n"
   ]
  },
  {
   "cell_type": "code",
   "execution_count": 44,
   "id": "df4f81aa",
   "metadata": {},
   "outputs": [
    {
     "name": "stdout",
     "output_type": "stream",
     "text": [
      "a[:, :2, :] : \n",
      " [[[ 0  1  2]\n",
      "  [ 3  4  5]]\n",
      "\n",
      " [[ 9 10 11]\n",
      "  [12 13 14]]\n",
      "\n",
      " [[18 19 20]\n",
      "  [21 22 23]]]\n",
      "ndarray: \n",
      "[[[ 0  1  2]\n",
      "  [ 3  4  5]\n",
      "  [ 6  7  8]]\n",
      "\n",
      " [[ 9 10 11]\n",
      "  [12 13 14]\n",
      "  [15 16 17]]\n",
      "\n",
      " [[18 19 20]\n",
      "  [21 22 23]\n",
      "  [24 25 26]]]\n",
      "\n"
     ]
    }
   ],
   "source": [
    "\n",
    "a = np.arange(3*3*3).reshape((3, 3, 3))\n",
    "\n",
    "print(\"a[:, :2, :] : \\n\", a[:, :2, :])\n",
    "\n",
    "print(f\"ndarray: \\n{a}\\n\")\n"
   ]
  },
  {
   "cell_type": "code",
   "execution_count": 45,
   "id": "13f5cefd",
   "metadata": {},
   "outputs": [
    {
     "name": "stdout",
     "output_type": "stream",
     "text": [
      "a[:, :, 0] : \n",
      " [[ 0  3  6]\n",
      " [ 9 12 15]\n",
      " [18 21 24]]\n",
      "ndarray: \n",
      "[[[ 0  1  2]\n",
      "  [ 3  4  5]\n",
      "  [ 6  7  8]]\n",
      "\n",
      " [[ 9 10 11]\n",
      "  [12 13 14]\n",
      "  [15 16 17]]\n",
      "\n",
      " [[18 19 20]\n",
      "  [21 22 23]\n",
      "  [24 25 26]]]\n",
      "\n"
     ]
    }
   ],
   "source": [
    "a = np.arange(3*3*3).reshape((3, 3, 3))\n",
    "print(\"a[:, :, 0] : \\n\", a[:, :, 0])\n",
    "print(f\"ndarray: \\n{a}\\n\")"
   ]
  },
  {
   "cell_type": "code",
   "execution_count": 46,
   "id": "6cc74f15",
   "metadata": {},
   "outputs": [
    {
     "name": "stdout",
     "output_type": "stream",
     "text": [
      "ndarray: \n",
      "[[[ 0  1  2]\n",
      "  [ 3  4  5]\n",
      "  [ 6  7  8]]\n",
      "\n",
      " [[ 9 10 11]\n",
      "  [12 13 14]\n",
      "  [15 16 17]]\n",
      "\n",
      " [[18 19 20]\n",
      "  [21 22 23]\n",
      "  [24 25 26]]]\n",
      "\n"
     ]
    }
   ],
   "source": [
    "import numpy as npprint\n",
    "a = np.arange(3*3*3).reshape((3, 3, 3))\n",
    "print(f\"ndarray: \\n{a}\\n\")"
   ]
  },
  {
   "cell_type": "code",
   "execution_count": 47,
   "id": "cf331402",
   "metadata": {},
   "outputs": [
    {
     "name": "stdout",
     "output_type": "stream",
     "text": [
      "(500, 300) (500, 300) (500, 300)\n"
     ]
    }
   ],
   "source": [
    "image = np.random.normal(size=(3, 500, 300))\n",
    "image_r = image[0]\n",
    "image_g = image[1]\n",
    "image_b = image[2]\n",
    "image_r, image_g, image_b = image\n",
    "print(image_r.shape, image_g.shape, image_b.shape)"
   ]
  },
  {
   "cell_type": "code",
   "execution_count": 48,
   "id": "4f630e2a",
   "metadata": {},
   "outputs": [
    {
     "name": "stdout",
     "output_type": "stream",
     "text": [
      "(3, 100, 100) (3, 100, 100)\n",
      "(3, 100, 100) (3, 100, 100)\n"
     ]
    }
   ],
   "source": [
    "\n",
    "image = np.random.normal(size=(3, 500, 300))\n",
    "top_left = image[:, :100, :100]\n",
    "top_right = image[:, :100, -100:]\n",
    "bottom_left = image[:, -100:, :100]\n",
    "bottom_right = image[:, -100:, -100:]\n",
    "print(top_left.shape, top_right.shape)\n",
    "print(bottom_left.shape, bottom_right.shape)\n"
   ]
  },
  {
   "cell_type": "code",
   "execution_count": 49,
   "id": "250aa9ef",
   "metadata": {},
   "outputs": [
    {
     "name": "stdout",
     "output_type": "stream",
     "text": [
      "[0 3 4]\n",
      "ndarray: \n",
      "[0 1 2 3 4 5 6 7 8 9]\n",
      "\n"
     ]
    }
   ],
   "source": [
    "a = np.arange(10)\n",
    "indices = np.array([0, 3, 4])\n",
    "print(a[indices])\n",
    "print(f\"ndarray: \\n{a}\\n\")"
   ]
  },
  {
   "cell_type": "code",
   "execution_count": 50,
   "id": "3be79541",
   "metadata": {},
   "outputs": [
    {
     "name": "stdout",
     "output_type": "stream",
     "text": [
      "[0 0 5 5]\n",
      "ndarray: \n",
      "[0 1 2 3 4 5 6 7 8 9]\n",
      "\n"
     ]
    }
   ],
   "source": [
    "a = np.arange(10)\n",
    "indices = np.array([0, 0, 5, 5])\n",
    "print(a[indices])\n",
    "\n",
    "print(f\"ndarray: \\n{a}\\n\")"
   ]
  },
  {
   "cell_type": "code",
   "execution_count": 51,
   "id": "f6b181d2",
   "metadata": {},
   "outputs": [
    {
     "name": "stdout",
     "output_type": "stream",
     "text": [
      "indices: \n",
      "[[1 2 3]\n",
      " [5 8 9]]\n",
      "a[indices]: \n",
      "[[1 2 3]\n",
      " [5 8 9]]\n",
      "ndarray: \n",
      "[0 1 2 3 4 5 6 7 8 9]\n",
      "\n"
     ]
    }
   ],
   "source": [
    "a = np.arange(10)\n",
    "indices = np.array([[1, 2, 3], [5, 8, 9]])\n",
    "print(f\"indices: \\n{indices}\")\n",
    "print(f\"a[indices]: \\n{a[indices]}\")\n",
    "print(f\"ndarray: \\n{a}\\n\")"
   ]
  },
  {
   "cell_type": "code",
   "execution_count": 52,
   "id": "0bdfe03f",
   "metadata": {},
   "outputs": [
    {
     "name": "stdout",
     "output_type": "stream",
     "text": [
      "ndarray: \n",
      "[19 15  5 12  5 10 13  1  7 13]\n",
      "\n",
      "indices: \n",
      "[[[5 1 3 3]\n",
      "  [5 1 4 8]\n",
      "  [3 2 2 9]]\n",
      "\n",
      " [[1 1 8 2]\n",
      "  [9 4 1 1]\n",
      "  [5 5 5 5]]]\n",
      "a[indices]: \n",
      "[[[10 15 12 12]\n",
      "  [10 15  5  7]\n",
      "  [12  5  5 13]]\n",
      "\n",
      " [[15 15  7  5]\n",
      "  [13  5 15 15]\n",
      "  [10 10 10 10]]]\n"
     ]
    }
   ],
   "source": [
    "a = np.random.randint(0, 20, (10, ))\n",
    "print(f\"ndarray: \\n{a}\\n\")\n",
    "\n",
    "indices = np.random.randint(0, 10, size=(2, 3, 4))\n",
    "print(f\"indices: \\n{indices}\")\n",
    "print(f\"a[indices]: \\n{a[indices]}\")"
   ]
  },
  {
   "cell_type": "code",
   "execution_count": 53,
   "id": "c8b25eef",
   "metadata": {},
   "outputs": [
    {
     "name": "stdout",
     "output_type": "stream",
     "text": [
      "ndarray: \n",
      "[[ 0  1  2  3]\n",
      " [ 4  5  6  7]\n",
      " [ 8  9 10 11]]\n",
      "\n",
      "a[0]:  [0 1 2 3]\n",
      "a[1]:  [4 5 6 7]\n",
      "a[2]:  [ 8  9 10 11]\n"
     ]
    }
   ],
   "source": [
    "a = np.arange(12).reshape((3, 4))\n",
    "print(f\"ndarray: \\n{a}\\n\")\n",
    "print(\"a[0]: \", a[0])\n",
    "print(\"a[1]: \", a[1])\n",
    "print(\"a[2]: \", a[2])"
   ]
  },
  {
   "cell_type": "code",
   "execution_count": 54,
   "id": "2632609d",
   "metadata": {},
   "outputs": [
    {
     "name": "stdout",
     "output_type": "stream",
     "text": [
      "ndarray: \n",
      "[[ 0  1  2  3]\n",
      " [ 4  5  6  7]\n",
      " [ 8  9 10 11]]\n",
      "\n",
      "indices: \n",
      "[0 2]\n",
      "a[indices]: \n",
      "[[ 0  1  2  3]\n",
      " [ 8  9 10 11]]\n"
     ]
    }
   ],
   "source": [
    "a = np.arange(12).reshape((3, 4))\n",
    "print(f\"ndarray: \\n{a}\\n\")\n",
    "\n",
    "indices = np.array([0, 2])\n",
    "print(f\"indices: \\n{indices}\")\n",
    "print(f\"a[indices]: \\n{a[indices]}\")\n"
   ]
  },
  {
   "cell_type": "code",
   "execution_count": 55,
   "id": "19e36ff5",
   "metadata": {},
   "outputs": [
    {
     "name": "stdout",
     "output_type": "stream",
     "text": [
      "ndarray: \n",
      "[[ 0  1  2  3]\n",
      " [ 4  5  6  7]\n",
      " [ 8  9 10 11]]\n",
      "\n",
      "indices: \n",
      "[0 0 1 1 2 2]\n",
      "a[indices]: \n",
      "[[ 0  1  2  3]\n",
      " [ 0  1  2  3]\n",
      " [ 4  5  6  7]\n",
      " [ 4  5  6  7]\n",
      " [ 8  9 10 11]\n",
      " [ 8  9 10 11]]\n"
     ]
    }
   ],
   "source": [
    "\n",
    "a = np.arange(12).reshape((3, 4))\n",
    "print(f\"ndarray: \\n{a}\\n\")\n",
    "\n",
    "indices = np.array([0, 0, 1, 1, 2, 2])\n",
    "\n",
    "print(f\"indices: \\n{indices}\")\n",
    "print(f\"a[indices]: \\n{a[indices]}\")\n"
   ]
  },
  {
   "cell_type": "code",
   "execution_count": 56,
   "id": "c2194d5d",
   "metadata": {},
   "outputs": [
    {
     "name": "stdout",
     "output_type": "stream",
     "text": [
      "ndarray: \n",
      "[[ 0  1  2  3]\n",
      " [ 4  5  6  7]\n",
      " [ 8  9 10 11]]\n",
      "\n",
      "indices: \n",
      "[[ 0  1  2]\n",
      " [-3 -2 -1]]\n",
      "a[indices]: \n",
      "[[[ 0  1  2  3]\n",
      "  [ 4  5  6  7]\n",
      "  [ 8  9 10 11]]\n",
      "\n",
      " [[ 0  1  2  3]\n",
      "  [ 4  5  6  7]\n",
      "  [ 8  9 10 11]]]\n"
     ]
    }
   ],
   "source": [
    "\n",
    "a = np.arange(12).reshape((3, 4))\n",
    "print(f\"ndarray: \\n{a}\\n\")\n",
    "\n",
    "indices = np.array([[0, 1, 2], [-3, -2, -1]])\n",
    "\n",
    "print(f\"indices: \\n{indices}\")\n",
    "print(f\"a[indices]: \\n{a[indices]}\")\n"
   ]
  },
  {
   "cell_type": "code",
   "execution_count": 57,
   "id": "55e79b37",
   "metadata": {},
   "outputs": [
    {
     "name": "stdout",
     "output_type": "stream",
     "text": [
      "ndarray: \n",
      "[[ 0  1  2  3]\n",
      " [ 4  5  6  7]\n",
      " [ 8  9 10 11]]\n",
      "\n",
      "[0]\n",
      "[6]\n",
      "[8]\n",
      "[11]\n"
     ]
    }
   ],
   "source": [
    "\n",
    "a = np.arange(12).reshape((3, 4))\n",
    "print(f\"ndarray: \\n{a}\\n\")\n",
    "\n",
    "indices0, indices1 = np.array([0]), np.array([0])\n",
    "print(a[indices0, indices1])\n",
    "indices0, indices1 = np.array([1]), np.array([2])\n",
    "print(a[indices0, indices1])\n",
    "\n",
    "indices0, indices1 = np.array([-1]), np.array([0])\n",
    "print(a[indices0, indices1])\n",
    "\n",
    "indices0, indices1 = np.array([-1]), np.array([-1])\n",
    "print(a[indices0, indices1])\n"
   ]
  },
  {
   "cell_type": "code",
   "execution_count": 58,
   "id": "7b558eb0",
   "metadata": {},
   "outputs": [
    {
     "name": "stdout",
     "output_type": "stream",
     "text": [
      "ndarray: \n",
      "[[ 0  1  2  3]\n",
      " [ 4  5  6  7]\n",
      " [ 8  9 10 11]]\n",
      "\n",
      "Paired indices\n",
      "(0, 1)\n",
      "(1, 2)\n",
      "(2, 3)\n",
      "a[indices0, indices1]: \n",
      "[ 1  6 11]\n"
     ]
    }
   ],
   "source": [
    "a = np.arange(12).reshape((3, 4))\n",
    "print(f\"ndarray: \\n{a}\\n\")\n",
    "\n",
    "indices0, indices1 = np.array([0, 1, 2]), np.array([1, 2, 3])\n",
    "\n",
    "print(\"Paired indices\")\n",
    "for idx0, idx1 in zip(indices0, indices1):\n",
    "    print(f\"({idx0}, {idx1})\")\n",
    "print(f\"a[indices0, indices1]: \\n{a[indices0, indices1]}\")"
   ]
  },
  {
   "cell_type": "code",
   "execution_count": 59,
   "id": "2e6cec2a",
   "metadata": {},
   "outputs": [
    {
     "name": "stdout",
     "output_type": "stream",
     "text": [
      "ndarray: \n",
      "[[ 0  1  2  3]\n",
      " [ 4  5  6  7]\n",
      " [ 8  9 10 11]]\n",
      "\n",
      "Paired indices\n",
      "(0, 0) \n",
      "(1, 1) \n",
      "(2, 2) \n",
      "(0, 1) \n",
      "(1, 2) \n",
      "(2, 3) \n",
      "a[indices0, indices1]: \n",
      "[[ 0  5 10]\n",
      " [ 1  6 11]]\n"
     ]
    }
   ],
   "source": [
    "\n",
    "a = np.arange(12).reshape((3, 4))\n",
    "print(f\"ndarray: \\n{a}\\n\")\n",
    "\n",
    "indices0 = np.array([[0, 1, 2], [0, 1, 2]])\n",
    "indices1 = np.array([[0, 1, 2], [1, 2, 3]])\n",
    "print(\"Paired indices\")\n",
    "\n",
    "for row_indices0, row_indices1 in zip(indices0, indices1):\n",
    "    for idx0, idx1 in zip(row_indices0, row_indices1):\n",
    "        print(f\"({idx0}, {idx1})\", end=' ')\n",
    "        print()\n",
    "\n",
    "print(f\"a[indices0, indices1]: \\n{a[indices0, indices1]}\")\n"
   ]
  },
  {
   "cell_type": "code",
   "execution_count": 60,
   "id": "313196d5",
   "metadata": {},
   "outputs": [
    {
     "name": "stdout",
     "output_type": "stream",
     "text": [
      "ndarray: \n",
      "[0 1 2 3 4]\n",
      "b_indices: \n",
      "[ True False  True False  True]\n",
      "\n",
      "a[b_indices]: \n",
      "[0 2 4]\n"
     ]
    }
   ],
   "source": [
    "\n",
    "a = np.arange(5)\n",
    "print(f\"ndarray: \\n{a}\")\n",
    "\n",
    "b_indices = np.array([True, False, True, False, True])\n",
    "\n",
    "print(f\"b_indices: \\n{b_indices}\\n\")\n",
    "print(f\"a[b_indices]: \\n{a[b_indices]}\")\n"
   ]
  },
  {
   "cell_type": "code",
   "execution_count": 61,
   "id": "786bbdeb",
   "metadata": {},
   "outputs": [
    {
     "name": "stdout",
     "output_type": "stream",
     "text": [
      "ndarray: \n",
      "[ 0 16  1  4  3 11  6 18  3  4]\n",
      "b_indices: \n",
      "[ True  True False  True False False  True  True False  True]\n",
      "\n",
      "a[b_indices]: \n",
      "[ 0 16  4  6 18  4]\n"
     ]
    }
   ],
   "source": [
    "a = np.random.randint(0, 20, (10, ))\n",
    "print(f\"ndarray: \\n{a}\")\n",
    "\n",
    "b_indices = (a % 2 == 0)\n",
    "print(f\"b_indices: \\n{b_indices}\\n\")\n",
    "print(f\"a[b_indices]: \\n{a[b_indices]}\")\n"
   ]
  },
  {
   "cell_type": "code",
   "execution_count": 62,
   "id": "c67ff1ef",
   "metadata": {},
   "outputs": [
    {
     "name": "stdout",
     "output_type": "stream",
     "text": [
      "ndarray: \n",
      "[[11  5]\n",
      " [ 0 18]]\n",
      "b_indices: \n",
      "[[ True False]\n",
      " [False  True]]\n",
      "\n",
      "a[b_indices]: \n",
      "[11 18]\n"
     ]
    }
   ],
   "source": [
    "a = np.random.randint(0, 20, (2, 2))\n",
    "print(f\"ndarray: \\n{a}\")\n",
    "\n",
    "b_indices = np.array([[True, False],\n",
    "[False, True]])\n",
    "\n",
    "print(f\"b_indices: \\n{b_indices}\\n\")\n",
    "print(f\"a[b_indices]: \\n{a[b_indices]}\")"
   ]
  },
  {
   "cell_type": "code",
   "execution_count": 63,
   "id": "97ac2586",
   "metadata": {},
   "outputs": [
    {
     "name": "stdout",
     "output_type": "stream",
     "text": [
      "ndarray: \n",
      "[[ 0 12 15 17]\n",
      " [18 12  5 14]\n",
      " [14  6 18 13]]\n",
      "b_indices: \n",
      "[[False  True  True  True]\n",
      " [ True  True False  True]\n",
      " [ True False  True  True]]\n",
      "\n",
      "a[b_indices]: \n",
      "[12 15 17 18 12 14 14 18 13]\n"
     ]
    }
   ],
   "source": [
    "\n",
    "a = np.random.randint(0, 20, (3, 4))\n",
    "print(f\"ndarray: \\n{a}\")\n",
    "b_indices = (a > 10)\n",
    "\n",
    "print(f\"b_indices: \\n{b_indices}\\n\")\n",
    "print(f\"a[b_indices]: \\n{a[b_indices]}\")\n",
    "\n"
   ]
  },
  {
   "cell_type": "code",
   "execution_count": 64,
   "id": "8c513071",
   "metadata": {},
   "outputs": [
    {
     "name": "stdout",
     "output_type": "stream",
     "text": [
      "a: \n",
      "[[ True False]\n",
      " [ True False]]\n",
      "\n",
      "nonzero: \n",
      "(array([0, 2], dtype=int64),)\n",
      "where: \n",
      "(array([0, 1], dtype=int64), array([0, 0], dtype=int64))\n",
      "a: \n",
      "[[ True False]\n",
      " [ True False]]\n",
      "\n",
      "nonzero: \n",
      "(array([0, 2], dtype=int64),)\n",
      "where: \n",
      "(array([0, 1], dtype=int64), array([0, 0], dtype=int64))\n"
     ]
    }
   ],
   "source": [
    "\n",
    "a = np.array([True, False, True, False])\n",
    "nonzero = np.nonzero(a)\n",
    "a = np.array([[True, False],[True, False]])\n",
    "where = np.where(a)\n",
    "\n",
    "\n",
    "print(f\"a: \\n{a}\\n\")\n",
    "print(f\"nonzero: \\n{nonzero}\")\n",
    "print(f\"where: \\n{where}\")\n",
    "\n",
    "\n",
    "print(f\"a: \\n{a}\\n\")\n",
    "print(f\"nonzero: \\n{nonzero}\")\n",
    "print(f\"where: \\n{where}\")\n",
    "\n",
    "nonzero = np.nonzero(a)\n",
    "where = np.where(a)"
   ]
  },
  {
   "cell_type": "code",
   "execution_count": 65,
   "id": "728c34e5",
   "metadata": {},
   "outputs": [
    {
     "name": "stdout",
     "output_type": "stream",
     "text": [
      "a: \n",
      "[[[ True False  True]\n",
      "  [ True False False]]\n",
      "\n",
      " [[False  True False]\n",
      "  [ True False  True]]]\n",
      "\n",
      "nonzero: \n",
      "(array([0, 0, 0, 1, 1, 1], dtype=int64), array([0, 0, 1, 0, 1, 1], dtype=int64), array([0, 2, 0, 1, 0, 2], dtype=int64))\n",
      "where: \n",
      "(array([0, 0, 0, 1, 1, 1], dtype=int64), array([0, 0, 1, 0, 1, 1], dtype=int64), array([0, 2, 0, 1, 0, 2], dtype=int64))\n"
     ]
    }
   ],
   "source": [
    "a = np.array([[[True, False, True],\n",
    "[True, False, False]],\n",
    "[[False, True, False],\n",
    "[True, False, True]]])\n",
    "nonzero = np.nonzero(a)\n",
    "where = np.where(a)\n",
    "\n",
    "print(f\"a: \\n{a}\\n\")\n",
    "print(f\"nonzero: \\n{nonzero}\")\n",
    "print(f\"where: \\n{where}\")\n"
   ]
  },
  {
   "cell_type": "code",
   "execution_count": 66,
   "id": "d44710a6",
   "metadata": {},
   "outputs": [
    {
     "name": "stdout",
     "output_type": "stream",
     "text": [
      "a: \n",
      "[[ 1  1 -2]\n",
      " [ 2 -1  2]\n",
      " [-2 -1 -1]]\n",
      "\n",
      "using nonzero: \n",
      "[ 1  1 -2  2 -1  2 -2 -1 -1]\n",
      "using where: \n",
      "[ 1  1 -2  2 -1  2 -2 -1 -1]\n",
      "using bool ndarray: \n",
      "[ 1  1 -2  2 -1  2 -2 -1 -1]\n"
     ]
    }
   ],
   "source": [
    "\n",
    "a = np.random.randint(-2, 3, size=(3, 3))\n",
    "u_nonzero = a[np.nonzero(a)]\n",
    "u_where = a[np.where(a)]\n",
    "u_bool = a[a != 0]\n",
    "print(f\"a: \\n{a}\\n\")\n",
    "print(f\"using nonzero: \\n{u_nonzero}\")\n",
    "print(f\"using where: \\n{u_where}\")\n",
    "print(f\"using bool ndarray: \\n{u_bool}\")"
   ]
  },
  {
   "cell_type": "code",
   "execution_count": 67,
   "id": "50102323",
   "metadata": {},
   "outputs": [
    {
     "name": "stdout",
     "output_type": "stream",
     "text": [
      "a: \n",
      "[[ 1  0  0]\n",
      " [-2  0  2]\n",
      " [ 1 -2  0]]\n",
      "\n",
      "using nonzero: \n",
      "[1 2 1]\n",
      "using where: \n",
      "[1 2 1]\n",
      "using bool ndarray: \n",
      "[1 2 1]\n"
     ]
    }
   ],
   "source": [
    "\n",
    "a = np.random.randint(-2, 3, size=(3, 3))\n",
    "\n",
    "u_nonzero = a[np.nonzero(a > 0)]\n",
    "u_where = a[np.where(a > 0)]\n",
    "u_bool = a[a > 0]\n",
    "print(f\"a: \\n{a}\\n\")\n",
    "print(f\"using nonzero: \\n{u_nonzero}\")\n",
    "print(f\"using where: \\n{u_where}\")\n",
    "print(f\"using bool ndarray: \\n{u_bool}\")\n"
   ]
  },
  {
   "cell_type": "code",
   "execution_count": 68,
   "id": "c4677676",
   "metadata": {},
   "outputs": [
    {
     "name": "stdout",
     "output_type": "stream",
     "text": [
      "ndarray:  [0 1 2 3 4]\n",
      "np.sum:  10\n",
      "ndarray.sum:  10\n"
     ]
    }
   ],
   "source": [
    "a = np.arange(5)\n",
    "print(\"ndarray: \", a)\n",
    "print(\"np.sum: \", np.sum(a))\n",
    "print(\"ndarray.sum: \", a.sum())"
   ]
  },
  {
   "cell_type": "code",
   "execution_count": 69,
   "id": "92caa835",
   "metadata": {},
   "outputs": [
    {
     "name": "stdout",
     "output_type": "stream",
     "text": [
      "ndarray: \n",
      " [[0 1 2]\n",
      " [3 4 5]]\n",
      "np.sum:  15\n",
      "ndarray.sum:  15\n"
     ]
    }
   ],
   "source": [
    "\n",
    "a = np.arange(6).reshape((2, -1))\n",
    "print(\"ndarray: \\n\", a)\n",
    "print(\"np.sum: \", np.sum(a))\n",
    "print(\"ndarray.sum: \", a.sum())\n"
   ]
  },
  {
   "cell_type": "code",
   "execution_count": 70,
   "id": "e1b6a42d",
   "metadata": {},
   "outputs": [
    {
     "name": "stdout",
     "output_type": "stream",
     "text": [
      "ndarray: (3, 4)\n",
      "[[ 0  1  2  3]\n",
      " [ 4  5  6  7]\n",
      " [ 8  9 10 11]]\n",
      "ndarray.sum(axis=0): (4,)\n",
      "[12 15 18 21]\n"
     ]
    }
   ],
   "source": [
    "\n",
    "a = np.arange(12).reshape((3, -1))\n",
    "sum_ = a.sum(axis=0)\n",
    "print(\"ndarray: {}\\n{}\".format(a.shape, a))\n",
    "print(\"ndarray.sum(axis=0): {}\\n{}\".format(sum_.shape, sum_))\n"
   ]
  },
  {
   "cell_type": "code",
   "execution_count": 71,
   "id": "648c7508",
   "metadata": {},
   "outputs": [
    {
     "name": "stdout",
     "output_type": "stream",
     "text": [
      "ndarray: (3, 4)\n",
      "[[ 0  1  2  3]\n",
      " [ 4  5  6  7]\n",
      " [ 8  9 10 11]]\n",
      "ndarray.sum(axis=1): (4,)\n",
      "[12 15 18 21]\n"
     ]
    }
   ],
   "source": [
    "\n",
    "a = np.arange(12).reshape((3, -1))\n",
    "print(\"ndarray: {}\\n{}\".format(a.shape, a))\n",
    "print(\"ndarray.sum(axis=1): {}\\n{}\".format(sum_.shape, sum_))"
   ]
  },
  {
   "cell_type": "code",
   "execution_count": 72,
   "id": "a8938056",
   "metadata": {},
   "outputs": [
    {
     "name": "stdout",
     "output_type": "stream",
     "text": [
      "scores: (3, 4)\n",
      "[[ 0  1  2  3]\n",
      " [ 4  5  6  7]\n",
      " [ 8  9 10 11]]\n",
      "sum_class: (4,)\n",
      "[12 15 18 21]\n",
      "sum_student: (3,)\n",
      "[ 6 22 38]\n"
     ]
    }
   ],
   "source": [
    "\n",
    "a = np.arange(12).reshape((3, -1))\n",
    "sum_class = np.sum(a, axis=0)\n",
    "sum_student = np.sum(a, axis=1)\n",
    "print(\"scores: {}\\n{}\".format(a.shape, a))\n",
    "print(\"sum_class: {}\\n{}\".format(sum_class.shape,\n",
    "sum_class))\n",
    "print(\"sum_student: {}\\n{}\".format(sum_student.shape,\n",
    "sum_student))\n"
   ]
  },
  {
   "cell_type": "code",
   "execution_count": 73,
   "id": "bf01f71d",
   "metadata": {},
   "outputs": [
    {
     "name": "stdout",
     "output_type": "stream",
     "text": [
      "scores: (3, 4)\n",
      "[[ 0  1  2  3]\n",
      " [ 4  5  6  7]\n",
      " [ 8  9 10 11]]\n",
      "sum_class: (1, 4)\n",
      "[[12 15 18 21]]\n",
      "sum_student: (3, 1)\n",
      "[[ 6]\n",
      " [22]\n",
      " [38]]\n"
     ]
    }
   ],
   "source": [
    "\n",
    "a = np.arange(12).reshape((3, -1))\n",
    "sum_class = np.sum(a, axis=0, keepdims=True)\n",
    "sum_student = np.sum(a, axis=1, keepdims=True)\n",
    "print(\"scores: {}\\n{}\".format(a.shape, a))\n",
    "print(\"sum_class: {}\\n{}\".format(sum_class.shape,\n",
    "sum_class))\n",
    "print(\"sum_student: {}\\n{}\".format(sum_student.shape,\n",
    "sum_student))"
   ]
  },
  {
   "cell_type": "code",
   "execution_count": 74,
   "id": "14f49b84",
   "metadata": {},
   "outputs": [
    {
     "name": "stdout",
     "output_type": "stream",
     "text": [
      "Shapes: \n",
      "(3, 4) (1, 4) (3, 1) \n",
      "\n",
      "Mean subtraction by classes\n",
      " [[-17.         -44.         -41.33333333  26.        ]\n",
      " [-14.          48.          51.66666667 -54.        ]\n",
      " [ 31.          -4.         -10.33333333  28.        ]]\n",
      "Mean subtraction by students\n",
      " [[  4.   -27.   -34.    57.  ]\n",
      " [-20.    38.    32.   -50.  ]\n",
      " [ 21.75 -17.25 -33.25  28.75]]\n"
     ]
    }
   ],
   "source": [
    "\n",
    "n_student, n_class = 3, 4\n",
    "m_score, M_score = 0, 100\n",
    "scores = np.random.randint(low=m_score,\n",
    "high=M_score,\n",
    "size=(n_student,n_class))\n",
    "\n",
    "mean_class = np.mean(scores, axis=0, keepdims=True)\n",
    "mean_student = np.mean(scores, axis=1, keepdims=True)\n",
    "print(\"Shapes: \")\n",
    "print(scores.shape, mean_class.shape, mean_student.shape, '\\n')\n",
    "print(\"Mean subtraction by classes\\n\", scores - mean_class)\n",
    "print(\"Mean subtraction by students\\n\", scores - mean_student)"
   ]
  },
  {
   "cell_type": "code",
   "execution_count": 75,
   "id": "c3c96696",
   "metadata": {},
   "outputs": [
    {
     "name": "stdout",
     "output_type": "stream",
     "text": [
      "ndarray: (2, 3, 4)\n",
      "[[[ 0  1  2  3]\n",
      "  [ 4  5  6  7]\n",
      "  [ 8  9 10 11]]\n",
      "\n",
      " [[12 13 14 15]\n",
      "  [16 17 18 19]\n",
      "  [20 21 22 23]]]\n",
      "ndarray.sum(axis=0): (3, 4)\n",
      "[[12 14 16 18]\n",
      " [20 22 24 26]\n",
      " [28 30 32 34]]\n"
     ]
    }
   ],
   "source": [
    "\n",
    "a = np.arange(2*3*4).reshape((2, 3, 4))\n",
    "\n",
    "sum_ = a.sum(axis=0)\n",
    "print(\"ndarray: {}\\n{}\".format(a.shape, a))\n",
    "print(\"ndarray.sum(axis=0): {}\\n{}\".format(sum_.shape, sum_))"
   ]
  },
  {
   "cell_type": "code",
   "execution_count": 76,
   "id": "2b59a1fb",
   "metadata": {},
   "outputs": [
    {
     "name": "stdout",
     "output_type": "stream",
     "text": [
      "ndarray: (2, 3, 4)\n",
      "[[[ 0  1  2  3]\n",
      "  [ 4  5  6  7]\n",
      "  [ 8  9 10 11]]\n",
      "\n",
      " [[12 13 14 15]\n",
      "  [16 17 18 19]\n",
      "  [20 21 22 23]]]\n",
      "axis=1: (2, 4)\n",
      "[[12 15 18 21]\n",
      " [48 51 54 57]]\n",
      "axis=1, keepdims=True: (2, 1, 4)\n",
      "[[[12 15 18 21]]\n",
      "\n",
      " [[48 51 54 57]]]\n"
     ]
    }
   ],
   "source": [
    "\n",
    "a = np.arange(2*3*4).reshape((2, 3, 4))\n",
    "\n",
    "sum_ = a.sum(axis=1)\n",
    "sum_k = a.sum(axis=1, keepdims=True)\n",
    "print(\"ndarray: {}\\n{}\".format(a.shape, a))\n",
    "print(\"axis=1: {}\\n{}\".format(sum_.shape, sum_))\n",
    "print(\"axis=1, keepdims=True: {}\\n{}\".format(sum_k.shape,sum_k))"
   ]
  },
  {
   "cell_type": "code",
   "execution_count": 77,
   "id": "fceb3351",
   "metadata": {},
   "outputs": [
    {
     "name": "stdout",
     "output_type": "stream",
     "text": [
      "ndarray: (2, 3, 4)\n",
      "[[[ 0  1  2  3]\n",
      "  [ 4  5  6  7]\n",
      "  [ 8  9 10 11]]\n",
      "\n",
      " [[12 13 14 15]\n",
      "  [16 17 18 19]\n",
      "  [20 21 22 23]]]\n",
      "axis=2: (2, 3)\n",
      "[[ 6 22 38]\n",
      " [54 70 86]]\n",
      "axis=2, keepdims=True: (2, 3, 1)\n",
      "[[[ 6]\n",
      "  [22]\n",
      "  [38]]\n",
      "\n",
      " [[54]\n",
      "  [70]\n",
      "  [86]]]\n"
     ]
    }
   ],
   "source": [
    "\n",
    "a = np.arange(2*3*4).reshape((2, 3, 4))\n",
    "\n",
    "sum_ = a.sum(axis=2)\n",
    "sum_k = a.sum(axis=2, keepdims=True)\n",
    "print(\"ndarray: {}\\n{}\".format(a.shape, a))\n",
    "print(\"axis=2: {}\\n{}\".format(sum_.shape, sum_))\n",
    "print(\"axis=2, keepdims=True: {}\\n{}\".format(sum_k.shape,sum_k))"
   ]
  },
  {
   "cell_type": "code",
   "execution_count": 78,
   "id": "1474319d",
   "metadata": {},
   "outputs": [
    {
     "name": "stdout",
     "output_type": "stream",
     "text": [
      "scores: \n",
      " [[[93 64 67 83]\n",
      "  [19 14 42 35]\n",
      "  [63 90 20 16]]\n",
      "\n",
      " [[68 19 26 75]\n",
      "  [54 19 78 55]\n",
      "  [ 6 85 83 52]]\n",
      "\n",
      " [[33 53 60 73]\n",
      "  [86 48 56 44]\n",
      "  [ 2 99 69 60]]\n",
      "\n",
      " [[36  2 21  9]\n",
      "  [30 96 80 60]\n",
      "  [75 40 37 60]]]\n",
      "score mean:  (3, 4) \n",
      " [[57.5  34.5  43.5  60.  ]\n",
      " [47.25 44.25 64.   48.5 ]\n",
      " [36.5  78.5  52.25 47.  ]]\n",
      "score mean:  (4, 4) \n",
      " [[58.33333333 56.         43.         44.66666667]\n",
      " [42.66666667 41.         62.33333333 60.66666667]\n",
      " [40.33333333 66.66666667 61.66666667 59.        ]\n",
      " [47.         46.         46.         43.        ]]\n"
     ]
    }
   ],
   "source": [
    "\n",
    "import numpy as np\n",
    "n_test_time, n_student, n_class = 4, 3, 4\n",
    "m_score, M_score = 0, 100\n",
    "scores = np.random.randint(low=m_score,high=M_score,size=(n_test_time,n_student,n_class))\n",
    "print(\"scores: \\n\", scores)\n",
    "\n",
    "score_mean = np.mean(scores, axis=0)\n",
    "print(\"score mean: \",score_mean.shape, '\\n',score_mean)\n",
    "\n",
    "score_mean = np.mean(scores, axis=1)\n",
    "print(\"score mean: \",score_mean.shape, '\\n',score_mean)\n"
   ]
  },
  {
   "cell_type": "code",
   "execution_count": 79,
   "id": "32147622",
   "metadata": {},
   "outputs": [
    {
     "name": "stdout",
     "output_type": "stream",
     "text": [
      "Shape of original image: (3, 100, 200)\n",
      "Shape of gray-scaled image: (100, 200) \n",
      "\n",
      "Shape of gray-scaled image: (3, 100)\n",
      "Shape of original image: (100, 200, 3)\n"
     ]
    }
   ],
   "source": [
    "\n",
    "C, H, W = 3, 100, 200\n",
    "# (C, H, W) case\n",
    "images = np.random.randint(0, 256,size=(C, H, W))\n",
    "print(\"Shape of original image:\", images.shape)\n",
    "\n",
    "gray_image = np.mean(images, axis=0)\n",
    "print(\"Shape of gray-scaled image:\", gray_image.shape, '\\n')\n",
    "\n",
    "gray_image = np.mean(images, axis=-1)\n",
    "print(\"Shape of gray-scaled image:\", gray_image.shape)\n",
    "\n",
    "# (H, W, C) case\n",
    "images = np.random.randint(0, 256,size=(H, W, C))\n",
    "print(\"Shape of original image:\", images.shape)\n"
   ]
  },
  {
   "cell_type": "code",
   "execution_count": 80,
   "id": "3f8018a4",
   "metadata": {},
   "outputs": [
    {
     "name": "stdout",
     "output_type": "stream",
     "text": [
      "cumsum: (9,)\n",
      "[ 0  1  3  6 10 15 21 28 36]\n",
      "ndarray: (3, 3)\n",
      "[[0 1 2]\n",
      " [3 4 5]\n",
      " [6 7 8]]\n"
     ]
    }
   ],
   "source": [
    "\n",
    "import numpy as np\n",
    "a = np.arange(3*3).reshape((3, 3))\n",
    "cumsum = np.cumsum(a)\n",
    "\n",
    "print(\"cumsum: {}\\n{}\".format(cumsum.shape, cumsum))\n",
    "print(\"ndarray: {}\\n{}\".format(a.shape, a))\n"
   ]
  },
  {
   "cell_type": "code",
   "execution_count": 81,
   "id": "3768d0cb",
   "metadata": {},
   "outputs": [
    {
     "name": "stdout",
     "output_type": "stream",
     "text": [
      "cumsum: (24,)\n",
      "[  0   1   3   6  10  15  21  28  36  45  55  66  78  91 105 120 136 153\n",
      " 171 190 210 231 253 276]\n",
      "ndarray: (2, 3, 4)\n",
      "[[[ 0  1  2  3]\n",
      "  [ 4  5  6  7]\n",
      "  [ 8  9 10 11]]\n",
      "\n",
      " [[12 13 14 15]\n",
      "  [16 17 18 19]\n",
      "  [20 21 22 23]]]\n"
     ]
    }
   ],
   "source": [
    "\n",
    "import numpy as np\n",
    "a = np.arange(2*3*4).reshape((2, 3, 4))\n",
    "cumsum = np.cumsum(a)\n",
    "\n",
    "print(\"cumsum: {}\\n{}\".format(cumsum.shape, cumsum))\n",
    "print(\"ndarray: {}\\n{}\".format(a.shape, a))\n"
   ]
  },
  {
   "cell_type": "code",
   "execution_count": 82,
   "id": "29c8e877",
   "metadata": {},
   "outputs": [
    {
     "name": "stdout",
     "output_type": "stream",
     "text": [
      "ndarray: (3, 4)\n",
      "[[ 0  1  2  3]\n",
      " [ 4  5  6  7]\n",
      " [ 8  9 10 11]]\n",
      "cumsum: (3, 4)\n",
      "[[ 0  1  2  3]\n",
      " [ 4  6  8 10]\n",
      " [12 15 18 21]]\n",
      "cumsum: (3, 4)\n",
      "[[ 0  1  2  3]\n",
      " [ 4  6  8 10]\n",
      " [12 15 18 21]]\n"
     ]
    }
   ],
   "source": [
    "a = np.arange(3*4).reshape((3, 4))\n",
    "print(\"ndarray: {}\\n{}\".format(a.shape, a))\n",
    "\n",
    "cumsum = np.cumsum(a, axis=1)\n",
    "cumsum = np.cumsum(a, axis=0)\n",
    "\n",
    "print(\"cumsum: {}\\n{}\"\\\n",
    ".format(cumsum.shape,\n",
    "cumsum))\n",
    "print(\"cumsum: {}\\n{}\"\\\n",
    ".format(cumsum.shape,\n",
    "cumsum))"
   ]
  },
  {
   "cell_type": "code",
   "execution_count": 83,
   "id": "9a1cbaf4",
   "metadata": {},
   "outputs": [
    {
     "name": "stdout",
     "output_type": "stream",
     "text": [
      "ndarray: (4,)\n",
      "[1 2 3 4]\n",
      "\n",
      "prod: ()\n",
      "24\n",
      "cumprod: (4,)\n",
      "[ 1  2  6 24]\n"
     ]
    }
   ],
   "source": [
    "a = np.arange(1, 5)\n",
    "print(\"ndarray: {}\\n{}\\n\".format(a.shape, a))\n",
    "\n",
    "prod = np.prod(a)\n",
    "cumprod = np.cumprod(a)\n",
    "print(\"prod: {}\\n{}\".format(prod.shape, prod))\n",
    "print(\"cumprod: {}\\n{}\".format(cumprod.shape, cumprod))"
   ]
  },
  {
   "cell_type": "code",
   "execution_count": 84,
   "id": "2676e154",
   "metadata": {},
   "outputs": [
    {
     "name": "stdout",
     "output_type": "stream",
     "text": [
      "ndarray: (3, 4)\n",
      "[[ 1  2  3  4]\n",
      " [ 5  6  7  8]\n",
      " [ 9 10 11 12]]\n",
      "\n",
      "prod(axis=0): ()\n",
      "24\n",
      "cumprod(axis=0): (3, 4)\n",
      "[[  1   2   3   4]\n",
      " [  5  12  21  32]\n",
      " [ 45 120 231 384]]\n"
     ]
    }
   ],
   "source": [
    "\n",
    "a = np.arange(1, 1+12).reshape((3, 4))\n",
    "print(\"ndarray: {}\\n{}\\n\".format(a.shape, a))\n",
    "\n",
    "cumprod = np.cumprod(a, axis=0)\n",
    "print(\"prod(axis=0): {}\\n{}\".format(prod.shape, prod))\n",
    "print(\"cumprod(axis=0): {}\\n{}\".format(cumprod.shape, cumprod))"
   ]
  },
  {
   "cell_type": "code",
   "execution_count": 85,
   "id": "03de0765",
   "metadata": {},
   "outputs": [
    {
     "name": "stdout",
     "output_type": "stream",
     "text": [
      "ndarray: (5,)\n",
      "[6 1 6 5 8]\n",
      "\n",
      "diff: (4,)\n",
      "[-5  5 -1  3]\n"
     ]
    }
   ],
   "source": [
    "\n",
    "a = np.random.randint(0, 10, (5, ))\n",
    "print(\"ndarray: {}\\n{}\\n\".format(a.shape, a))\n",
    "\n",
    "diff = np.diff(a)\n",
    "print(\"diff: {}\\n{}\".format(diff.shape, diff))"
   ]
  },
  {
   "cell_type": "code",
   "execution_count": 86,
   "id": "97773166",
   "metadata": {},
   "outputs": [
    {
     "name": "stdout",
     "output_type": "stream",
     "text": [
      "ndarray: (4, 4)\n",
      "[[5 0 3 3]\n",
      " [7 9 3 5]\n",
      " [2 4 7 6]\n",
      " [8 8 1 6]]\n",
      "\n",
      "diff: (3, 4)\n",
      "[[ 2  9  0  2]\n",
      " [-5 -5  4  1]\n",
      " [ 6  4 -6  0]]\n",
      "diff: (4, 3)\n",
      "[[-5  3  0]\n",
      " [ 2 -6  2]\n",
      " [ 2  3 -1]\n",
      " [ 0 -7  5]]\n"
     ]
    }
   ],
   "source": [
    "\n",
    "np.random.seed(0)\n",
    "a = np.random.randint(0, 10, (4, 4))\n",
    "print(\"ndarray: {}\\n{}\\n\".format(a.shape, a))\n",
    "diff = np.diff(a, axis=0) \n",
    "\n",
    "print(\"diff: {}\\n{}\"\\\n",
    ".format(diff.shape,\n",
    "diff))\n",
    "\n",
    "diff = np.diff(a, axis=1)\n",
    "print(\"diff: {}\\n{}\"\\\n",
    ".format(diff.shape,\n",
    "diff))"
   ]
  },
  {
   "cell_type": "code",
   "execution_count": 87,
   "id": "3c694320",
   "metadata": {},
   "outputs": [
    {
     "name": "stdout",
     "output_type": "stream",
     "text": [
      "5.066666666666666\n",
      "5.066666666666666\n"
     ]
    }
   ],
   "source": [
    "\n",
    "np.random.seed(0)\n",
    "\n",
    "x = np.random.randint(1, 10, (5,))\n",
    "w = np.array([1, 2, 3, 4, 5])\n",
    "print(np.average(x, weights=w))\n",
    "print(np.sum(w*x)/np.sum(w)) "
   ]
  },
  {
   "cell_type": "code",
   "execution_count": 88,
   "id": "72df76e2",
   "metadata": {},
   "outputs": [
    {
     "name": "stdout",
     "output_type": "stream",
     "text": [
      "[0 1 2 3 4 5 6 7 8]\n",
      "4.0\n",
      "[0 1 2 3 4 5 6 7 8 9]\n",
      "4.5\n"
     ]
    }
   ],
   "source": [
    "\n",
    "#numpy.median(a, axis=None, out=None, overwrite_input=False, keepdims=False)\n",
    "\n",
    "x = np.arange(9)\n",
    "median = np.median(x)\n",
    "print(x)\n",
    "print(median)\n",
    "\n",
    "x = np.arange(10)\n",
    "median = np.median(x)\n",
    "print(x)\n",
    "print(median)"
   ]
  },
  {
   "cell_type": "code",
   "execution_count": 89,
   "id": "dcf68bda",
   "metadata": {},
   "outputs": [
    {
     "name": "stdout",
     "output_type": "stream",
     "text": [
      "mean/median: 4.66 / 4.0\n",
      "mean/median: 14.514851485148515 / 4.0\n"
     ]
    }
   ],
   "source": [
    "\n",
    "x = np.random.randint(1, 10, (100,))\n",
    "mean = np.mean(x)\n",
    "median = np.median(x)\n",
    "print(\"mean/median: {} / {}\".format(mean, median))\n",
    "\n",
    "x = np.append(x, 1000)\n",
    "mean = np.mean(x)\n",
    "median = np.median(x)\n",
    "print(\"mean/median: {} / {}\".format(mean, median))\n",
    "\n"
   ]
  },
  {
   "cell_type": "code",
   "execution_count": 90,
   "id": "66a501e6",
   "metadata": {},
   "outputs": [
    {
     "name": "stdout",
     "output_type": "stream",
     "text": [
      "variance:  734.4578993055557\n",
      "standard deviation:  27.100883736615597 \n",
      "\n",
      "square of std:  734.4578993055558\n",
      "square root of var:  27.100883736615597\n"
     ]
    }
   ],
   "source": [
    "\n",
    "#numpy.var(a, axis=None, dtype=None, out=None, ddof=0, keepdims=<no value>, *, where=<no value>)\n",
    "#ndarray.var(axis=None, dtype=None, out=None, ddof=0, keepdims=False, *, where=True)\n",
    "\n",
    "#numpy.std(a, axis=None, dtype=None, out=None, ddof=0, keepdims=<no value>, *, where=<no value>)\n",
    "#ndarray.std(axis=None, dtype=None, out=None, ddof=0, keepdims=False, *, where=True)\n",
    "var = scores.var()\n",
    "std = scores.std()\n",
    "print(\"variance: \", var)\n",
    "print(\"standard deviation: \", std, '\\n')\n",
    "print(\"square of std: \", std**2)\n",
    "print(\"square root of var: \", var**0.5)\n"
   ]
  },
  {
   "cell_type": "code",
   "execution_count": 91,
   "id": "86e5f729",
   "metadata": {},
   "outputs": [
    {
     "name": "stdout",
     "output_type": "stream",
     "text": [
      "shape of scores:  (100, 3)\n",
      "dtype of scores:  float32\n",
      "means before stdz: \n",
      " [50, 60, 70]\n",
      "stds before stdz: \n",
      " [3, 5, 10] \n",
      "\n",
      "means after stdz: \n",
      " [-0.0846136  -0.08142226  0.06996149]\n",
      "stds after stdz: \n",
      " [1.10905147 1.01120431 0.91903899]\n"
     ]
    }
   ],
   "source": [
    "\n",
    "\n",
    "\n",
    "means = [50, 60, 70]\n",
    "stds = [3, 5, 10]\n",
    "n_student, n_class = 100, 3\n",
    "scores = np.random.normal(loc=means,\n",
    "scale=stds,\n",
    "size=(n_student, n_class))\n",
    "scores = scores.astype(np.float32)\n",
    "print(\"shape of scores: \", scores.shape)\n",
    "print(\"dtype of scores: \", scores.dtype)\n",
    "\n",
    "print(\"means before stdz: \\n\", means)\n",
    "print(\"stds before stdz: \\n\", stds, '\\n')\n",
    "\n",
    "\n",
    "score_stdz = (scores - means)/stds # standardization\n",
    "means_stdz = score_stdz.mean(axis=0)\n",
    "stds_stdz = score_stdz.std(axis=0)\n",
    "\n",
    "means = scores.mean(axis=0)\n",
    "stds = scores.std(axis=0)\n",
    "print(\"means after stdz: \\n\", means_stdz)\n",
    "print(\"stds after stdz: \\n\", stds_stdz)\n"
   ]
  },
  {
   "cell_type": "code",
   "execution_count": 92,
   "id": "ef57ac5c",
   "metadata": {},
   "outputs": [
    {
     "name": "stdout",
     "output_type": "stream",
     "text": [
      "ndarray: \n",
      "[29 12 46 32 34 87 25 46 52 64]\n",
      "M/M_idx: 87/5\n"
     ]
    }
   ],
   "source": [
    "\n",
    "#numpy.amax(a, axis=None, out=None, keepdims=<no value>, initial=<no value>, where=<no value>)\n",
    "#ndarray.max(axis=None, out=None, keepdims=False, initial=<no value>, where=True)\n",
    "#numpy.argmax(a, axis=None, out=None)\n",
    "#ndarray.argmax(axis=None, out=None)\n",
    "\n",
    "a = np.random.randint(0, 100, (10, ))\n",
    "M = np.max(a)\n",
    "M_idx = np.argmax(a)\n",
    "print(f\"ndarray: \\n{a}\")\n",
    "print(f\"M/M_idx: {M}/{M_idx}\")"
   ]
  },
  {
   "cell_type": "code",
   "execution_count": 93,
   "id": "5479ff0a",
   "metadata": {},
   "outputs": [
    {
     "name": "stdout",
     "output_type": "stream",
     "text": [
      "Max scores:  [56.26657  69.762634 91.0188  ]\n",
      "Max indices:  [13 39 68]\n",
      "Max subjects:  [1 2 2 2 2 2 1 2 1 2 1 2 2 2 2 2 2 2 1 2 2 2 2 2 2 2 1 2 2 2 2 2 1 1 1 2 2\n",
      " 1 2 1 2 2 2 1 2 2 2 2 1 2 2 1 1 2 2 2 2 2 2 2 2 2 2 2 2 2 2 2 2 1 2 2 2 2\n",
      " 2 2 2 2 2 2 2 2 2 2 2 2 2 2 2 2 2 1 2 1 2 2 2 1 2 2]\n"
     ]
    }
   ],
   "source": [
    "means = [50, 60, 70]\n",
    "stds = [3, 5, 10]\n",
    "n_student, n_class = 100, 3\n",
    "scores = np.random.normal(loc=means,\n",
    "scale=stds,\n",
    "size=(n_student, n_class))\n",
    "scores = scores.astype(np.float32)\n",
    "scores_max = np.max(scores, axis=0)\n",
    "scores_max_idx = np.argmax(scores, axis=0)\n",
    "print(\"Max scores: \", scores_max)\n",
    "print(\"Max indices: \", scores_max_idx)\n",
    "scores_max_idx = np.argmax(scores, axis=1)\n",
    "print(\"Max subjects: \", scores_max_idx)\n"
   ]
  },
  {
   "cell_type": "code",
   "execution_count": 94,
   "id": "ccd1d63a",
   "metadata": {},
   "outputs": [
    {
     "name": "stdout",
     "output_type": "stream",
     "text": [
      "Max scores: [1. 1. 1.]\n",
      "min scores: [0. 0. 0.]\n"
     ]
    }
   ],
   "source": [
    "means = [50, 60, 70]\n",
    "stds = [3, 5, 10]\n",
    "n_student, n_class = 100, 3\n",
    "scores = np.random.normal(loc=means,\n",
    "scale=stds,\n",
    "size=(n_student, n_class))\n",
    "scores = scores.astype(np.float32)\n",
    "\n",
    "scores_max = np.amax(scores, axis=0)\n",
    "scores_min = np.amin(scores, axis=0)\n",
    "scores_mM_norm = (scores - scores_min)/(scores_max - scores_min)\n",
    "scores_max = np.amax(scores_mM_norm, axis=0)\n",
    "scores_min = np.amin(scores_mM_norm, axis=0)\n",
    "print(f\"Max scores: {scores_max}\")\n",
    "print(f\"min scores: {scores_min}\")"
   ]
  },
  {
   "cell_type": "code",
   "execution_count": 95,
   "id": "fbab4fa7",
   "metadata": {},
   "outputs": [
    {
     "name": "stdout",
     "output_type": "stream",
     "text": [
      "u: (10,)\n",
      "[2 1 7 0 2 9 3 4 9 3]\n",
      "v: (10,)\n",
      "[0 0 6 4 3 3 1 0 7 8]\n",
      "\n",
      "maximum: (10,)\n",
      "[2 1 7 4 3 9 3 4 9 8]\n",
      "minimum: (10,)\n",
      "[0 0 6 0 2 3 1 0 7 3]\n"
     ]
    }
   ],
   "source": [
    "\n",
    "u = np.random.randint(0, 10, (10, ))\n",
    "v = np.random.randint(0, 10, (10, ))\n",
    "print(f\"u: {u.shape}\\n{u}\")\n",
    "print(f\"v: {v.shape}\\n{v}\\n\")\n",
    "\n",
    "maximum = np.maximum(u, v)\n",
    "minimum = np.minimum(u, v)\n",
    "\n",
    "print(f\"maximum: {maximum.shape}\\n{maximum}\")\n",
    "print(f\"minimum: {minimum.shape}\\n{minimum}\")"
   ]
  },
  {
   "cell_type": "code",
   "execution_count": 96,
   "id": "83411c43",
   "metadata": {},
   "outputs": [
    {
     "name": "stdout",
     "output_type": "stream",
     "text": [
      "u: (3, 4)\n",
      "[[6 2 8 8]\n",
      " [9 6 4 1]\n",
      " [8 5 4 3]]\n",
      "v: (3, 4)\n",
      "[[5 7 6 6]\n",
      " [9 3 3 2]\n",
      " [7 3 9 9]]\n",
      "\n",
      "maximum: (3, 4)\n",
      "[[6 7 8 8]\n",
      " [9 6 4 2]\n",
      " [8 5 9 9]]\n",
      "minimum: (3, 4)\n",
      "[[5 2 6 6]\n",
      " [9 3 3 1]\n",
      " [7 3 4 3]]\n"
     ]
    }
   ],
   "source": [
    "\n",
    "u = np.random.randint(0, 10, (3, 4))\n",
    "v = np.random.randint(0, 10, (3, 4))\n",
    "print(f\"u: {u.shape}\\n{u}\")\n",
    "print(f\"v: {v.shape}\\n{v}\\n\")\n",
    "\n",
    "maximum = np.maximum(u, v)\n",
    "minimum = np.minimum(u, v)\n",
    "\n",
    "print(f\"maximum: {maximum.shape}\\n{maximum}\")\n",
    "print(f\"minimum: {minimum.shape}\\n{minimum}\")"
   ]
  },
  {
   "cell_type": "code",
   "execution_count": 97,
   "id": "0acf3f30",
   "metadata": {},
   "outputs": [
    {
     "name": "stdout",
     "output_type": "stream",
     "text": [
      "u: (10,)\n",
      "[5 9 8 3 8 5 9 0 7 0]\n",
      "v: (10,)\n",
      "[1 6 6 4 5 7 6 0 1 6]\n",
      "\n",
      "[ 100  100  100 -100  100 -100  100 -100  100 -100]\n"
     ]
    }
   ],
   "source": [
    "\n",
    "u = np.random.randint(0, 10, (10, ))\n",
    "v = np.random.randint(0, 10, (10, ))\n",
    "print(f\"u: {u.shape}\\n{u}\")\n",
    "print(f\"v: {v.shape}\\n{v}\\n\")\n",
    "\n",
    "up_vals = np.full_like(u, fill_value=100)\n",
    "down_vals = np.full_like(u, fill_value=-100)\n",
    "print(np.where(u > v, up_vals, down_vals))\n"
   ]
  },
  {
   "cell_type": "code",
   "execution_count": 98,
   "id": "4c53aace",
   "metadata": {},
   "outputs": [
    {
     "name": "stdout",
     "output_type": "stream",
     "text": [
      "u: (10,)\n",
      "[6 4 2 2 4 4 3 1 0 6]\n",
      "v: (10,)\n",
      "[6 0 9 8 9 5 2 9 8 4]\n",
      "\n",
      "maximum: (10,)\n",
      "[6 4 9 8 9 5 3 9 8 6]\n",
      "maximum(where): (10,)\n",
      "[6 4 9 8 9 5 3 9 8 6]\n"
     ]
    }
   ],
   "source": [
    "\n",
    "u = np.random.randint(0, 10, (10, ))\n",
    "v = np.random.randint(0, 10, (10, ))\n",
    "print(f\"u: {u.shape}\\n{u}\")\n",
    "print(f\"v: {v.shape}\\n{v}\\n\")\n",
    "\n",
    "maximum = np.maximum(u, v)\n",
    "maximum_where = np.where(u > v, u, v)\n",
    "print(f\"maximum: {maximum.shape}\\n{maximum}\")\n",
    "print(f\"maximum(where): {maximum_where.shape}\\n{maximum_where}\")\n"
   ]
  },
  {
   "cell_type": "code",
   "execution_count": 99,
   "id": "1c9cf94c",
   "metadata": {},
   "outputs": [
    {
     "name": "stdout",
     "output_type": "stream",
     "text": [
      "u: (10,)\n",
      "[4 0 2 5 7 7 1 3 2 0]\n",
      "v: (10,)\n",
      "[3 2 2 2 3 5 1 7 5 3]\n",
      "\n",
      "minimum: (10,)\n",
      "[3 0 2 2 3 5 1 3 2 0]\n",
      "minimum(where): (10,)\n",
      "[3 0 2 2 3 5 1 3 2 0]\n",
      "minimum(where): (10,)\n",
      "[3 0 2 2 3 5 1 3 2 0]\n"
     ]
    }
   ],
   "source": [
    "\n",
    "u = np.random.randint(0, 10, (10, ))\n",
    "v = np.random.randint(0, 10, (10, ))\n",
    "print(f\"u: {u.shape}\\n{u}\")\n",
    "print(f\"v: {v.shape}\\n{v}\\n\")\n",
    "\n",
    "minimum = np.minimum(u, v)\n",
    "minimum_where = np.where(u > v, v, u)\n",
    "minimum_where2 = np.where(u < v, u, v)\n",
    "print(f\"minimum: {minimum.shape}\\n{minimum}\")\n",
    "print(f\"minimum(where): {minimum_where.shape}\\n{minimum_where}\")\n",
    "print(f\"minimum(where): {minimum_where2.shape}\\n{minimum_where2}\")\n"
   ]
  },
  {
   "cell_type": "code",
   "execution_count": 100,
   "id": "5ce48b71",
   "metadata": {},
   "outputs": [
    {
     "name": "stdout",
     "output_type": "stream",
     "text": [
      "x: \n",
      " [ 0.49237259  1.43198776  0.70423411 -2.26322451 -2.79175716]\n",
      "\n",
      "np_around: \n",
      " [ 0.49  1.43  0.7  -2.26 -2.79]\n",
      "np_round_: \n",
      " [ 0.49  1.43  0.7  -2.26 -2.79]\n",
      "x_round: \n",
      " [ 0.49  1.43  0.7  -2.26 -2.79]\n"
     ]
    }
   ],
   "source": [
    "\n",
    "#numpy.around(a, decimals=0, out=None)\n",
    "#numpy.round_(a, decimals=0, out=None)\n",
    "#ndarray.round(decimals=0, out=None)\n",
    "\n",
    "x = np.random.uniform(-5, 5, (5, ))\n",
    "\n",
    "np_around = np.around(x, decimals=2)\n",
    "np_round_ = np.round_(x, decimals=2)\n",
    "x_round = x.round(decimals=2)\n",
    "print(f\"x: \\n {x}\\n\")\n",
    "print(f\"np_around: \\n {np_around}\")\n",
    "print(f\"np_round_: \\n {np_round_}\")\n",
    "print(f\"x_round: \\n {x_round}\")"
   ]
  },
  {
   "cell_type": "code",
   "execution_count": 101,
   "id": "d17d56e1",
   "metadata": {},
   "outputs": [
    {
     "name": "stdout",
     "output_type": "stream",
     "text": [
      "x: \n",
      " [-3.46417488  2.59873241  2.92718364  0.50337732  0.32325623]\n",
      "\n",
      "np_around: \n",
      " [-3.  3.  3.  1.  0.]\n",
      "np_round_: \n",
      " [-3.  3.  3.  1.  0.]\n",
      "x_round: \n",
      " [-3.  3.  3.  1.  0.]\n"
     ]
    }
   ],
   "source": [
    "\n",
    "x = np.random.uniform(-5, 5, (5, ))\n",
    "np_around = np.around(x)\n",
    "np_round_ = np.round_(x)\n",
    "x_round = x.round()\n",
    "print(f\"x: \\n {x}\\n\")\n",
    "print(f\"np_around: \\n {np_around}\")\n",
    "print(f\"np_round_: \\n {np_round_}\")\n",
    "print(f\"x_round: \\n {x_round}\")\n"
   ]
  },
  {
   "cell_type": "code",
   "execution_count": 102,
   "id": "bbc8fb44",
   "metadata": {},
   "outputs": [
    {
     "name": "stdout",
     "output_type": "stream",
     "text": [
      "x: \n",
      " [-1.38893522 -4.24149908  4.84030301  3.69848071 -2.94500873]\n",
      "\n",
      "trunc: \n",
      " [-1. -4.  4.  3. -2.]\n"
     ]
    }
   ],
   "source": [
    "x = np.random.uniform(-5, 5, (5, ))\n",
    "trunc = np.trunc(x)\n",
    "print(f\"x: \\n {x}\\n\")\n",
    "print(f\"trunc: \\n {trunc}\")"
   ]
  },
  {
   "cell_type": "code",
   "execution_count": 103,
   "id": "a205d2fa",
   "metadata": {},
   "outputs": [
    {
     "name": "stdout",
     "output_type": "stream",
     "text": [
      "x: \n",
      " [-0.75147361  1.52514346  0.5264587  -2.48799883 -1.75947679]\n",
      "\n",
      "trunc_where: \n",
      " [-0.  1.  0. -2. -1.]\n",
      "trunc: \n",
      "[-0.  1.  0. -2. -1.]\n"
     ]
    }
   ],
   "source": [
    "\n",
    "x = np.random.uniform(-5, 5, (5, ))\n",
    "trunc_where = np.where(x >= 0, np.floor(x), np.ceil(x))\n",
    "trunc = np.trunc(x)\n",
    "print(f\"x: \\n {x}\\n\")\n",
    "print(f\"trunc_where: \\n {trunc_where}\")\n",
    "print(f\"trunc: \\n{trunc}\")"
   ]
  },
  {
   "cell_type": "code",
   "execution_count": 104,
   "id": "1c2ab589",
   "metadata": {},
   "outputs": [
    {
     "name": "stdout",
     "output_type": "stream",
     "text": [
      "x: \n",
      " [ 2.88164612 -3.37549269 -4.18418896  0.13184716 -2.78670248]\n",
      "\n",
      "trunc: \n",
      " [ 2.8 -3.3 -4.1  0.1 -2.7]\n"
     ]
    }
   ],
   "source": [
    "\n",
    "x = np.random.uniform(-5, 5, (5, ))\n",
    "trunc = 0.1*np.trunc(10*x)\n",
    "print(f\"x: \\n {x}\\n\")\n",
    "print(f\"trunc: \\n {trunc}\")"
   ]
  },
  {
   "cell_type": "code",
   "execution_count": 105,
   "id": "06c9c657",
   "metadata": {},
   "outputs": [
    {
     "name": "stdout",
     "output_type": "stream",
     "text": [
      "x: \n",
      " [-2.676835    0.2591664  -0.01466451  4.27958364  0.03449278]\n",
      "\n",
      "int_part: \n",
      " [-2.  0. -0.  4.  0.]\n",
      "frac_part: \n",
      " [-0.676835    0.2591664  -0.01466451  0.27958364  0.03449278]\n"
     ]
    }
   ],
   "source": [
    "\n",
    "x = np.random.uniform(-5, 5, (5, ))\n",
    "int_part = np.trunc(x)\n",
    "frac_part = x - int_part\n",
    "print(f\"x: \\n {x}\\n\")\n",
    "print(f\"int_part: \\n {int_part}\")\n",
    "print(f\"frac_part: \\n {frac_part}\")"
   ]
  },
  {
   "cell_type": "code",
   "execution_count": 106,
   "id": "4cad59b6",
   "metadata": {},
   "outputs": [
    {
     "name": "stdout",
     "output_type": "stream",
     "text": [
      "x: \n",
      "[43 67 20 91 92 14 14 80 99 63]\n",
      "\n",
      "sort: \n",
      "[14 14 20 43 63 67 80 91 92 99]\n",
      "argsort: \n",
      "[5 6 2 0 9 1 7 3 4 8]\n"
     ]
    }
   ],
   "source": [
    "\n",
    "x = np.random.randint(0, 100, (10, ))\n",
    "sort = np.sort(x)\n",
    "argsort = np.argsort(x)\n",
    "print(f\"x: \\n{x}\\n\")\n",
    "print(f\"sort: \\n{sort}\")\n",
    "print(f\"argsort: \\n{argsort}\")"
   ]
  },
  {
   "cell_type": "code",
   "execution_count": 107,
   "id": "7792694f",
   "metadata": {},
   "outputs": [
    {
     "name": "stdout",
     "output_type": "stream",
     "text": [
      "x: \n",
      "[43 27 87 20 23 34 32 65 22 21]\n",
      "\n",
      "sort: \n",
      "[87 65 43 34 32 27 23 22 21 20]\n",
      "argsort: \n",
      "[2 7 0 5 6 1 4 8 9 3]\n"
     ]
    }
   ],
   "source": [
    "\n",
    "x = np.random.randint(0, 100, (10, ))\n",
    "sort = np.sort(x)[::-1]\n",
    "argsort = np.argsort(x)[::-1]\n",
    "print(f\"x: \\n{x}\\n\")\n",
    "print(f\"sort: \\n{sort}\")\n",
    "print(f\"argsort: \\n{argsort}\")\n"
   ]
  },
  {
   "cell_type": "code",
   "execution_count": 108,
   "id": "3385c4c8",
   "metadata": {},
   "outputs": [
    {
     "name": "stdout",
     "output_type": "stream",
     "text": [
      "pred: \n",
      "[0.309 0.04  0.042 0.199 0.41 ]\n",
      "\n",
      "top-3 pred: [0.41  0.309 0.199]\n",
      "top-3 indices: [4 0 3]\n"
     ]
    }
   ],
   "source": [
    "\n",
    "pred = np.random.uniform(0, 100, (5, ))\n",
    "pred /= pred.sum()\n",
    "top3_pred = np.sort(pred)[::-1][:3]\n",
    "top3_indices = np.argsort(pred)[::-1][:3]\n",
    "print(f\"pred: \\n{pred.round(3)}\\n\")\n",
    "print(f\"top-3 pred: {top3_pred.round(3)}\")\n",
    "print(f\"top-3 indices: {top3_indices}\")\n"
   ]
  },
  {
   "cell_type": "code",
   "execution_count": 109,
   "id": "47cf23c4",
   "metadata": {},
   "outputs": [
    {
     "name": "stdout",
     "output_type": "stream",
     "text": [
      "x: \n",
      "[[ 8  5 97 86 82]\n",
      " [10 62 29 11 30]\n",
      " [71 58 94 42 85]\n",
      " [71 25 54 83 25]]\n",
      "\n",
      "argsort: \n",
      "[[0 0 1 1 3]\n",
      " [1 3 3 2 1]\n",
      " [2 2 2 3 0]\n",
      " [3 1 0 0 2]]\n",
      "sort: \n",
      "[[ 8  5 29 11 25]\n",
      " [10 25 54 42 30]\n",
      " [71 58 94 83 82]\n",
      " [71 62 97 86 85]]\n"
     ]
    }
   ],
   "source": [
    "\n",
    "x = np.random.randint(0, 100, (4, 5))\n",
    "sort = np.sort(x, axis=0)\n",
    "argsort = np.argsort(x, axis=0)\n",
    "print(f\"x: \\n{x}\\n\")\n",
    "print(f\"argsort: \\n{argsort}\")\n",
    "print(f\"sort: \\n{sort}\")"
   ]
  },
  {
   "cell_type": "code",
   "execution_count": 110,
   "id": "c8ac3140",
   "metadata": {},
   "outputs": [
    {
     "name": "stdout",
     "output_type": "stream",
     "text": [
      "x: \n",
      "[[45  3 84 83 37]\n",
      " [33 60 89  7 60]\n",
      " [37 84 98 16 45]\n",
      " [39 33 97 65 73]]\n",
      "\n",
      "sort: \n",
      "[[45 84 98 83 73]\n",
      " [39 60 97 65 60]\n",
      " [37 33 89 16 45]\n",
      " [33  3 84  7 37]]\n",
      "argsort: \n",
      "[[0 2 2 0 3]\n",
      " [3 1 3 3 1]\n",
      " [2 3 1 2 2]\n",
      " [1 0 0 1 0]]\n"
     ]
    }
   ],
   "source": [
    "\n",
    "x = np.random.randint(0, 100, (4, 5))\n",
    "\n",
    "sort = np.sort(x, axis=0)[::-1, :]\n",
    "argsort = np.argsort(x, axis=0)[::-1, :]\n",
    "print(f\"x: \\n{x}\\n\")\n",
    "print(f\"sort: \\n{sort}\")\n",
    "\n",
    "print(f\"argsort: \\n{argsort}\")\n"
   ]
  },
  {
   "cell_type": "code",
   "execution_count": 111,
   "id": "2146d554",
   "metadata": {},
   "outputs": [
    {
     "name": "stdout",
     "output_type": "stream",
     "text": [
      "scores: \n",
      "[[87 68 24]\n",
      " [ 6 97 60]\n",
      " [88 61 59]\n",
      " [74 29 28]\n",
      " [24  3 82]]\n",
      "\n",
      "top-2 scores: \n",
      "[[88 97 82]\n",
      " [87 68 60]]\n",
      "top-2 students: \n",
      "[[2 1 4]\n",
      " [0 0 1]]\n",
      "sort: \n",
      "[[88 97 82]\n",
      " [87 68 60]\n",
      " [74 61 59]\n",
      " [24 29 28]\n",
      " [ 6  3 24]]\n",
      "argsort: \n",
      "[[2 1 4]\n",
      " [0 0 1]\n",
      " [3 2 2]\n",
      " [4 3 3]\n",
      " [1 4 0]]\n",
      "\n"
     ]
    }
   ],
   "source": [
    "\n",
    "scores = np.random.randint(0, 100, (5, 3))\n",
    "sort = np.sort(scores, axis=0)[::-1, :]\n",
    "argsort = np.argsort(scores, axis=0)[::-1, :]\n",
    "top2_scores = sort[:2, :]\n",
    "top2_students = argsort[:2, :]\n",
    "print(f\"scores: \\n{scores}\\n\")\n",
    "print(f\"top-2 scores: \\n{top2_scores}\")\n",
    "print(f\"top-2 students: \\n{top2_students}\")\n",
    "\n",
    "print(f\"sort: \\n{sort}\")\n",
    "print(f\"argsort: \\n{argsort}\\n\")\n"
   ]
  },
  {
   "cell_type": "code",
   "execution_count": 112,
   "id": "37bece2c",
   "metadata": {},
   "outputs": [
    {
     "name": "stdout",
     "output_type": "stream",
     "text": [
      "x: \n",
      "[[21  6 84 21 27]\n",
      " [26 89 64  3 53]\n",
      " [37  7 80 75 11]\n",
      " [ 2 54  5 17 78]]\n",
      "\n",
      "sort(ascending): \n",
      "[[ 6 21 21 27 84]\n",
      " [ 3 26 53 64 89]\n",
      " [ 7 11 37 75 80]\n",
      " [ 2  5 17 54 78]]\n",
      "argsort(ascending): \n",
      "[[1 0 3 4 2]\n",
      " [3 0 4 2 1]\n",
      " [1 4 0 3 2]\n",
      " [0 2 3 1 4]]\n",
      "\n",
      "sort(descending): \n",
      "[[84 27 21 21  6]\n",
      " [89 64 53 26  3]\n",
      " [80 75 37 11  7]\n",
      " [78 54 17  5  2]]\n",
      "argsort(descending): \n",
      "[[2 4 3 0 1]\n",
      " [1 2 4 0 3]\n",
      " [2 3 0 4 1]\n",
      " [4 1 3 2 0]]\n",
      "\n"
     ]
    }
   ],
   "source": [
    "\n",
    "x = np.random.randint(0, 100, (4, 5))\n",
    "sort_ascending = np.sort(x, axis=1)\n",
    "argsort_ascending = np.argsort(x, axis=1)\n",
    "sort_descending = np.sort(x, axis=1)[:, ::-1]\n",
    "argsort_descending = np.argsort(x, axis=1)[:, ::-1]\n",
    "print(f\"x: \\n{x}\\n\")\n",
    "print(f\"sort(ascending): \\n{sort_ascending}\")\n",
    "print(f\"argsort(ascending): \\n{argsort_ascending}\\n\")\n",
    "print(f\"sort(descending): \\n{sort_descending}\")\n",
    "print(f\"argsort(descending): \\n{argsort_descending}\\n\")\n"
   ]
  },
  {
   "cell_type": "code",
   "execution_count": 113,
   "id": "8c32f7b8",
   "metadata": {},
   "outputs": [
    {
     "name": "stdout",
     "output_type": "stream",
     "text": [
      "scores: \n",
      "[[ 5 78 81]\n",
      " [30 98  3]\n",
      " [ 0 93 44]\n",
      " [44 61  0]\n",
      " [17 29 91]]\n",
      "\n",
      "sort: \n",
      "[[ 5 78 81]\n",
      " [ 3 30 98]\n",
      " [ 0 44 93]\n",
      " [ 0 44 61]\n",
      " [17 29 91]]\n",
      "argsort: \n",
      "[[0 1 2]\n",
      " [2 0 1]\n",
      " [0 2 1]\n",
      " [2 0 1]\n",
      " [0 1 2]]\n",
      "\n",
      "bottom-2 scores: \n",
      "[[ 5 78]\n",
      " [ 3 30]\n",
      " [ 0 44]\n",
      " [ 0 44]\n",
      " [17 29]]\n",
      "bottom-2 subjects: \n",
      "[[0 1]\n",
      " [2 0]\n",
      " [0 2]\n",
      " [2 0]\n",
      " [0 1]]\n"
     ]
    }
   ],
   "source": [
    "\n",
    "scores = np.random.randint(0, 100, (5, 3))\n",
    "sort = np.sort(scores, axis=1)\n",
    "argsort = np.argsort(scores, axis=1)\n",
    "bottom2_scores = sort[:, :2]\n",
    "bottom2_subjects = argsort[:, :2]\n",
    "print(f\"scores: \\n{scores}\\n\")\n",
    "print(f\"sort: \\n{sort}\")\n",
    "print(f\"argsort: \\n{argsort}\\n\")\n",
    "print(f\"bottom-2 scores: \\n{bottom2_scores}\")\n",
    "print(f\"bottom-2 subjects: \\n{bottom2_subjects}\")"
   ]
  }
 ],
 "metadata": {
  "kernelspec": {
   "display_name": "Python 3 (ipykernel)",
   "language": "python",
   "name": "python3"
  },
  "language_info": {
   "codemirror_mode": {
    "name": "ipython",
    "version": 3
   },
   "file_extension": ".py",
   "mimetype": "text/x-python",
   "name": "python",
   "nbconvert_exporter": "python",
   "pygments_lexer": "ipython3",
   "version": "3.9.13"
  }
 },
 "nbformat": 4,
 "nbformat_minor": 5
}
